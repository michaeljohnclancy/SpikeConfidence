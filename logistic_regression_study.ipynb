{
 "cells": [
  {
   "cell_type": "code",
   "execution_count": 1,
   "outputs": [
    {
     "name": "stderr",
     "output_type": "stream",
     "text": [
      "/home/mclancy/.local/share/pyenv/versions/3.8.3/lib/python3.8/importlib/__init__.py:127: MatplotlibDeprecationWarning: \n",
      "The matplotlib.backends.backend_qt4agg backend was deprecated in Matplotlib 3.3 and will be removed two minor releases later.\n",
      "  return _bootstrap._gcd_import(name[level:], package, level)\n"
     ]
    }
   ],
   "source": [
    "import os\n",
    "import matplotlib.pyplot as plt\n",
    "import numpy as np\n",
    "import matplotlib\n",
    "\n",
    "from pathlib import Path\n",
    "from sklearn.metrics import f1_score\n",
    "from sklearn.model_selection import train_test_split\n",
    "from sklearn.preprocessing import StandardScaler\n",
    "from sklearn.linear_model import LogisticRegression\n",
    "from sklearn.pipeline import make_pipeline\n",
    "\n",
    "import spikesorters as ss\n",
    "from sorter import SpikeSession\n",
    "from spikeextractors import MEArecRecordingExtractor, MEArecSortingExtractor\n",
    "from utils import prepare_fp_dataset\n",
    "\n",
    "matplotlib.use('qt4Agg')"
   ],
   "metadata": {
    "collapsed": false,
    "pycharm": {
     "name": "#%%\n"
    }
   }
  },
  {
   "cell_type": "code",
   "execution_count": 2,
   "outputs": [
    {
     "name": "stdout",
     "output_type": "stream",
     "text": [
      "Setting KILOSORT2_5_PATH environment variable for subprocess calls to: /home/mclancy/SpikeConfidence/spikesorters/Kilosort\n",
      "Setting IRONCLUST_PATH environment variable for subprocess calls to: /home/mclancy/SpikeConfidence/spikesorters/ironclust\n"
     ]
    }
   ],
   "source": [
    "tmp_path = Path('/home/mclancy/SpikeConfidence/.tmp/')\n",
    "os.environ[\"TMP\"] = str(tmp_path)\n",
    "os.environ[\"TMPDIR\"] = str(tmp_path)\n",
    "os.environ[\"TEMPDIR\"] = str(tmp_path)\n",
    "os.environ[\"ML_TEMPORARY_DIRECTORY\"] = str(tmp_path)\n",
    "tmp_path.mkdir(exist_ok=True, parents=True)\n",
    "\n",
    "base_dir = Path('/home/mclancy/SpikeConfidence/')\n",
    "analyses_dir = base_dir / 'analyses'\n",
    "spike_sorter_dir = base_dir / 'spikesorters'\n",
    "\n",
    "cache_path = Path('/data/.cache')\n",
    "\n",
    "# kilosort2_5\n",
    "ss.Kilosort2_5Sorter.set_kilosort2_5_path(spike_sorter_dir / 'Kilosort')\n",
    "\n",
    "ss.IronClustSorter.set_ironclust_path(spike_sorter_dir / 'ironclust')\n",
    "\n",
    "dataset_path = Path(\"/home/mclancy/SpikeConfidence/analyses/recordings_50cells_SqMEA_2020/recordings_50cells_SqMEA-10-15_600.0_10.0uV_21-01-2020_18-12.h5\")"
   ],
   "metadata": {
    "collapsed": false,
    "pycharm": {
     "name": "#%%\n"
    }
   }
  },
  {
   "cell_type": "code",
   "execution_count": 3,
   "outputs": [],
   "source": [
    "# Spyking circus causes d_prime to break\n",
    "sorter_names = ['mountainsort4', 'herdingspikes', 'spykingcircus']#'kilosort2_5',['ironclust','tridesclous',\n",
    "\n",
    "metric_names = np.array([\"num_spikes\", \"firing_rate\", \"presence_ratio\",\n",
    "                \"isi_violation\", \"amplitude_cutoff\", \"snr\",\n",
    "                \"max_drift\", \"cumulative_drift\", \"silhouette_score\",\n",
    "                \"isolation_distance\", \"l_ratio\",\n",
    "                \"nn_hit_rate\", \"nn_miss_rate\",\"d_prime\"])"
   ],
   "metadata": {
    "collapsed": false,
    "pycharm": {
     "name": "#%%\n"
    }
   }
  },
  {
   "cell_type": "code",
   "execution_count": 4,
   "outputs": [],
   "source": [
    "# Preparing dataset\n",
    "recording = MEArecRecordingExtractor(dataset_path)\n",
    "gt_sorting = MEArecSortingExtractor(dataset_path)\n",
    "\n",
    "session = SpikeSession(recording, gt_sorting, cache_path=cache_path/dataset_path.stem)\n",
    "X, y = prepare_fp_dataset(session, sorter_names=['herdingspikes'], metric_names=['l_ratio'])"
   ],
   "metadata": {
    "collapsed": false,
    "pycharm": {
     "name": "#%%\n"
    }
   }
  },
  {
   "cell_type": "code",
   "execution_count": 9,
   "outputs": [
    {
     "name": "stdout",
     "output_type": "stream",
     "text": [
      "Full metrics model accuracy is 0.8571428571428571\n"
     ]
    }
   ],
   "source": [
    "X_train, X_test, y_train, y_test = train_test_split(X, y, test_size=0.33, random_state=0)\n",
    "\n",
    "#Standard scalar shouldn't affect Logistic regression, but it does in this case (for mountainsort4)\n",
    "model = make_pipeline(StandardScaler(), LogisticRegression())\n",
    "scaler = StandardScaler().fit(X_train)\n",
    "\n",
    "X_train_transformed = scaler.transform(X_train)\n",
    "X_test_transformed = scaler.transform(X_test)\n",
    "\n",
    "# False positive classification via logistic regression\n",
    "model.fit(X_train_transformed, y_train)\n",
    "model_accuracy = model.score(X_test_transformed, y_test)\n",
    "print(f\"Full metrics model accuracy is {model_accuracy}\")"
   ],
   "metadata": {
    "collapsed": false,
    "pycharm": {
     "name": "#%%\n"
    }
   }
  },
  {
   "cell_type": "markdown",
   "source": [],
   "metadata": {
    "collapsed": false,
    "pycharm": {
     "name": "#%% md\n"
    }
   }
  }
 ],
 "metadata": {
  "kernelspec": {
   "name": "python3",
   "language": "python",
   "display_name": "Python 3"
  },
  "language_info": {
   "codemirror_mode": {
    "name": "ipython",
    "version": 2
   },
   "file_extension": ".py",
   "mimetype": "text/x-python",
   "name": "python",
   "nbconvert_exporter": "python",
   "pygments_lexer": "ipython2",
   "version": "2.7.6"
  }
 },
 "nbformat": 4,
 "nbformat_minor": 0
}
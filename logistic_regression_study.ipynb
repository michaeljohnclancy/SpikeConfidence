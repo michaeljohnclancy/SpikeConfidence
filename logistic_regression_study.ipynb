{
 "cells": [
  {
   "cell_type": "code",
   "execution_count": 2,
   "outputs": [
    {
     "name": "stderr",
     "output_type": "stream",
     "text": [
      "/home/mclancy/.local/share/pyenv/versions/3.8.3/lib/python3.8/importlib/__init__.py:127: MatplotlibDeprecationWarning: \n",
      "The matplotlib.backends.backend_qt4agg backend was deprecated in Matplotlib 3.3 and will be removed two minor releases later.\n",
      "  return _bootstrap._gcd_import(name[level:], package, level)\n"
     ]
    }
   ],
   "source": [
    "import os\n",
    "import matplotlib.pyplot as plt\n",
    "import numpy as np\n",
    "import matplotlib\n",
    "\n",
    "from pathlib import Path\n",
    "from sklearn.metrics import f1_score\n",
    "from sklearn.model_selection import train_test_split, ShuffleSplit, cross_val_score\n",
    "from sklearn.preprocessing import StandardScaler\n",
    "from sklearn.linear_model import LogisticRegression\n",
    "from sklearn.pipeline import make_pipeline\n",
    "from sklearn.feature_selection import RFE\n",
    "\n",
    "from utils import prepare_dataset\n",
    "import spikesorters as ss\n",
    "\n",
    "matplotlib.use('qt4Agg')"
   ],
   "metadata": {
    "collapsed": false,
    "pycharm": {
     "name": "#%%\n"
    }
   }
  },
  {
   "cell_type": "code",
   "execution_count": 3,
   "outputs": [
    {
     "name": "stdout",
     "output_type": "stream",
     "text": [
      "Setting KILOSORT2_5_PATH environment variable for subprocess calls to: /home/mclancy/SpikeConfidence/spikesorters/Kilosort\n",
      "Setting IRONCLUST_PATH environment variable for subprocess calls to: /home/mclancy/SpikeConfidence/spikesorters/ironclust\n"
     ]
    },
    {
     "name": "stderr",
     "output_type": "stream",
     "text": [
      "/home/mclancy/.local/share/pyenv/versions/SpikeConfidence/lib/python3.8/site-packages/ipykernel/ipkernel.py:283: DeprecationWarning: `should_run_async` will not call `transform_cell` automatically in the future. Please pass the result to `transformed_cell` argument and any exception that happen during thetransform in `preprocessing_exc_tuple` in IPython 7.17 and above.\n",
      "  and should_run_async(code)\n"
     ]
    }
   ],
   "source": [
    "os.environ[\"TMP\"] = \"/home/mclancy/SpikeConfidence/.tmp/\"\n",
    "os.environ[\"TMPDIR\"] = \"/home/mclancy/SpikeConfidence/.tmp/\"\n",
    "os.environ[\"TEMPDIR\"] = \"/home/mclancy/SpikeConfidence/.tmp/\"\n",
    "os.environ[\"ML_TEMPORARY_DIRECTORY\"] = \"/home/mclancy/SpikeConfidence/.tmp\"\n",
    "\n",
    "base_dir = Path('/home/mclancy/SpikeConfidence/')\n",
    "analyses_dir = base_dir / 'analyses'\n",
    "spike_sorter_dir = base_dir / 'spikesorters'\n",
    "\n",
    "# kilosort2_5\n",
    "ss.Kilosort2_5Sorter.set_kilosort2_5_path(spike_sorter_dir / 'Kilosort')\n",
    "\n",
    "ss.IronClustSorter.set_ironclust_path(spike_sorter_dir / 'ironclust')\n",
    "\n",
    "dataset_path = Path(\"/home/mclancy/SpikeConfidence/analyses/recordings_50cells_SqMEA_2020/recordings_50cells_SqMEA-10-15_600.0_10.0uV_21-01-2020_18-12.h5\")\n",
    "dataset_path_2 = Path(\"/home/mclancy/SpikeConfidence/analyses/recordings_50cells_SqMEA/recordings_50cells_SqMEA-10-15um_60.0_10.0uV_27-03-2019_13-31-005.h5\")\n",
    "# session = SpikeSorter(dataset_path)\n",
    "# recording = session.get_recording()\n",
    "# ground_truth = session.get_ground_truth()\n",
    "\n",
    "# sorting = session.get_sorting(sorter_name='herdingspikes')\n",
    "\n",
    "# sorter_names = ['klusta', 'tridesclous', 'mountainsort4',\n",
    "#                 'ironclust', 'kilosort', 'kilosort2', 'kilosort2_5',\n",
    "#                 'waveclus']"
   ],
   "metadata": {
    "collapsed": false,
    "pycharm": {
     "name": "#%%\n"
    }
   }
  },
  {
   "cell_type": "code",
   "execution_count": 37,
   "outputs": [
    {
     "name": "stderr",
     "output_type": "stream",
     "text": [
      "/home/mclancy/.local/share/pyenv/versions/SpikeConfidence/lib/python3.8/site-packages/ipykernel/ipkernel.py:283: DeprecationWarning: `should_run_async` will not call `transform_cell` automatically in the future. Please pass the result to `transformed_cell` argument and any exception that happen during thetransform in `preprocessing_exc_tuple` in IPython 7.17 and above.\n",
      "  and should_run_async(code)\n"
     ]
    }
   ],
   "source": [
    "# Spyking circus causes d_prime to break\n",
    "sorter_names = ['mountainsort4']#],['herdingspikes', 'spykingcircus']#'kilosort2_5',['ironclust','tridesclous',\n",
    "\n",
    "metric_names = np.array([\"num_spikes\", \"firing_rate\", \"presence_ratio\",\n",
    "                \"isi_violation\", \"amplitude_cutoff\", \"snr\",\n",
    "                \"max_drift\", \"cumulative_drift\", \"silhouette_score\",\n",
    "                \"isolation_distance\", \"l_ratio\",\n",
    "                \"nn_hit_rate\", \"nn_miss_rate\",\"d_prime\"])\n",
    "\n",
    "dataset_paths = [dataset_path, dataset_path_2]"
   ],
   "metadata": {
    "collapsed": false,
    "pycharm": {
     "name": "#%%\n"
    }
   }
  },
  {
   "cell_type": "code",
   "execution_count": 38,
   "outputs": [
    {
     "name": "stdout",
     "output_type": "stream",
     "text": [
      "Warning: dumping a CacheRecordingExtractor. The path to the tmp binary file will be lost in further sessions. To prevent this, use the 'CacheRecordingExtractor.move_to('path-to-file)' function\n",
      "Warning: dumping a CacheRecordingExtractor. The path to the tmp binary file will be lost in further sessions. To prevent this, use the 'CacheRecordingExtractor.move_to('path-to-file)' function\n",
      "Warning: dumping a CacheRecordingExtractor. The path to the tmp binary file will be lost in further sessions. To prevent this, use the 'CacheRecordingExtractor.move_to('path-to-file)' function\n"
     ]
    },
    {
     "ename": "ValueError",
     "evalue": "n_components cannot be larger than min(n_features, n_classes - 1).",
     "output_type": "error",
     "traceback": [
      "\u001B[0;31m---------------------------------------------------------------------------\u001B[0m",
      "\u001B[0;31mValueError\u001B[0m                                Traceback (most recent call last)",
      "\u001B[0;32m<ipython-input-38-eaa252c5b9fc>\u001B[0m in \u001B[0;36m<module>\u001B[0;34m\u001B[0m\n\u001B[1;32m      1\u001B[0m \u001B[0;31m# Preparing dataset\u001B[0m\u001B[0;34m\u001B[0m\u001B[0;34m\u001B[0m\u001B[0;34m\u001B[0m\u001B[0m\n\u001B[1;32m      2\u001B[0m \u001B[0;34m\u001B[0m\u001B[0m\n\u001B[0;32m----> 3\u001B[0;31m X, y = prepare_dataset(dataset_paths=dataset_paths,\n\u001B[0m\u001B[1;32m      4\u001B[0m                        \u001B[0msorter_names\u001B[0m\u001B[0;34m=\u001B[0m\u001B[0msorter_names\u001B[0m\u001B[0;34m,\u001B[0m \u001B[0mmetric_names\u001B[0m\u001B[0;34m=\u001B[0m\u001B[0mmetric_names\u001B[0m\u001B[0;34m\u001B[0m\u001B[0;34m\u001B[0m\u001B[0m\n\u001B[1;32m      5\u001B[0m                        )\n",
      "\u001B[0;32m~/SpikeConfidence/utils.py\u001B[0m in \u001B[0;36mprepare_dataset\u001B[0;34m(dataset_paths, sorter_names, metric_names, prediction_var, **kwargs)\u001B[0m\n\u001B[1;32m     91\u001B[0m ):\n\u001B[1;32m     92\u001B[0m     \u001B[0;32mif\u001B[0m \u001B[0mprediction_var\u001B[0m \u001B[0;34m==\u001B[0m \u001B[0;34m'false_positive'\u001B[0m\u001B[0;34m:\u001B[0m\u001B[0;34m\u001B[0m\u001B[0;34m\u001B[0m\u001B[0m\n\u001B[0;32m---> 93\u001B[0;31m         \u001B[0mdata\u001B[0m \u001B[0;34m=\u001B[0m \u001B[0;34m[\u001B[0m\u001B[0mprepare_fp_dataset\u001B[0m\u001B[0;34m(\u001B[0m\u001B[0mdataset_path\u001B[0m\u001B[0;34m,\u001B[0m \u001B[0msorter_names\u001B[0m\u001B[0;34m,\u001B[0m \u001B[0mmetric_names\u001B[0m\u001B[0;34m)\u001B[0m \u001B[0;32mfor\u001B[0m \u001B[0mdataset_path\u001B[0m \u001B[0;32min\u001B[0m \u001B[0mdataset_paths\u001B[0m\u001B[0;34m]\u001B[0m\u001B[0;34m\u001B[0m\u001B[0;34m\u001B[0m\u001B[0m\n\u001B[0m\u001B[1;32m     94\u001B[0m         \u001B[0;32mreturn\u001B[0m \u001B[0mnp\u001B[0m\u001B[0;34m.\u001B[0m\u001B[0mvstack\u001B[0m\u001B[0;34m(\u001B[0m\u001B[0;34m[\u001B[0m\u001B[0md\u001B[0m\u001B[0;34m[\u001B[0m\u001B[0;36m0\u001B[0m\u001B[0;34m]\u001B[0m \u001B[0;32mfor\u001B[0m \u001B[0md\u001B[0m \u001B[0;32min\u001B[0m \u001B[0mdata\u001B[0m\u001B[0;34m]\u001B[0m\u001B[0;34m)\u001B[0m\u001B[0;34m,\u001B[0m \u001B[0mnp\u001B[0m\u001B[0;34m.\u001B[0m\u001B[0mhstack\u001B[0m\u001B[0;34m(\u001B[0m\u001B[0;34m[\u001B[0m\u001B[0md\u001B[0m\u001B[0;34m[\u001B[0m\u001B[0;36m1\u001B[0m\u001B[0;34m]\u001B[0m \u001B[0;32mfor\u001B[0m \u001B[0md\u001B[0m \u001B[0;32min\u001B[0m \u001B[0mdata\u001B[0m\u001B[0;34m]\u001B[0m\u001B[0;34m)\u001B[0m\u001B[0;34m\u001B[0m\u001B[0;34m\u001B[0m\u001B[0m\n\u001B[1;32m     95\u001B[0m \u001B[0;34m\u001B[0m\u001B[0m\n",
      "\u001B[0;32m~/SpikeConfidence/utils.py\u001B[0m in \u001B[0;36m<listcomp>\u001B[0;34m(.0)\u001B[0m\n\u001B[1;32m     91\u001B[0m ):\n\u001B[1;32m     92\u001B[0m     \u001B[0;32mif\u001B[0m \u001B[0mprediction_var\u001B[0m \u001B[0;34m==\u001B[0m \u001B[0;34m'false_positive'\u001B[0m\u001B[0;34m:\u001B[0m\u001B[0;34m\u001B[0m\u001B[0;34m\u001B[0m\u001B[0m\n\u001B[0;32m---> 93\u001B[0;31m         \u001B[0mdata\u001B[0m \u001B[0;34m=\u001B[0m \u001B[0;34m[\u001B[0m\u001B[0mprepare_fp_dataset\u001B[0m\u001B[0;34m(\u001B[0m\u001B[0mdataset_path\u001B[0m\u001B[0;34m,\u001B[0m \u001B[0msorter_names\u001B[0m\u001B[0;34m,\u001B[0m \u001B[0mmetric_names\u001B[0m\u001B[0;34m)\u001B[0m \u001B[0;32mfor\u001B[0m \u001B[0mdataset_path\u001B[0m \u001B[0;32min\u001B[0m \u001B[0mdataset_paths\u001B[0m\u001B[0;34m]\u001B[0m\u001B[0;34m\u001B[0m\u001B[0;34m\u001B[0m\u001B[0m\n\u001B[0m\u001B[1;32m     94\u001B[0m         \u001B[0;32mreturn\u001B[0m \u001B[0mnp\u001B[0m\u001B[0;34m.\u001B[0m\u001B[0mvstack\u001B[0m\u001B[0;34m(\u001B[0m\u001B[0;34m[\u001B[0m\u001B[0md\u001B[0m\u001B[0;34m[\u001B[0m\u001B[0;36m0\u001B[0m\u001B[0;34m]\u001B[0m \u001B[0;32mfor\u001B[0m \u001B[0md\u001B[0m \u001B[0;32min\u001B[0m \u001B[0mdata\u001B[0m\u001B[0;34m]\u001B[0m\u001B[0;34m)\u001B[0m\u001B[0;34m,\u001B[0m \u001B[0mnp\u001B[0m\u001B[0;34m.\u001B[0m\u001B[0mhstack\u001B[0m\u001B[0;34m(\u001B[0m\u001B[0;34m[\u001B[0m\u001B[0md\u001B[0m\u001B[0;34m[\u001B[0m\u001B[0;36m1\u001B[0m\u001B[0;34m]\u001B[0m \u001B[0;32mfor\u001B[0m \u001B[0md\u001B[0m \u001B[0;32min\u001B[0m \u001B[0mdata\u001B[0m\u001B[0;34m]\u001B[0m\u001B[0;34m)\u001B[0m\u001B[0;34m\u001B[0m\u001B[0;34m\u001B[0m\u001B[0m\n\u001B[1;32m     95\u001B[0m \u001B[0;34m\u001B[0m\u001B[0m\n",
      "\u001B[0;32m~/SpikeConfidence/utils.py\u001B[0m in \u001B[0;36mprepare_fp_dataset\u001B[0;34m(dataset_path, sorter_names, metric_names, drop_nans)\u001B[0m\n\u001B[1;32m     47\u001B[0m     \u001B[0msession\u001B[0m \u001B[0;34m=\u001B[0m \u001B[0mSpikeSorter\u001B[0m\u001B[0;34m(\u001B[0m\u001B[0mdataset_path\u001B[0m\u001B[0;34m)\u001B[0m\u001B[0;34m\u001B[0m\u001B[0;34m\u001B[0m\u001B[0m\n\u001B[1;32m     48\u001B[0m \u001B[0;34m\u001B[0m\u001B[0m\n\u001B[0;32m---> 49\u001B[0;31m     \u001B[0mX\u001B[0m \u001B[0;34m=\u001B[0m \u001B[0m_prepare_metrics_data\u001B[0m\u001B[0;34m(\u001B[0m\u001B[0msession\u001B[0m\u001B[0;34m,\u001B[0m \u001B[0msorter_names\u001B[0m\u001B[0;34m,\u001B[0m \u001B[0mmetric_names\u001B[0m\u001B[0;34m)\u001B[0m\u001B[0;34m\u001B[0m\u001B[0;34m\u001B[0m\u001B[0m\n\u001B[0m\u001B[1;32m     50\u001B[0m     \u001B[0my\u001B[0m \u001B[0;34m=\u001B[0m \u001B[0m_prepare_fp_data\u001B[0m\u001B[0;34m(\u001B[0m\u001B[0msession\u001B[0m\u001B[0;34m,\u001B[0m \u001B[0msorter_names\u001B[0m\u001B[0;34m)\u001B[0m\u001B[0;34m\u001B[0m\u001B[0;34m\u001B[0m\u001B[0m\n\u001B[1;32m     51\u001B[0m \u001B[0;34m\u001B[0m\u001B[0m\n",
      "\u001B[0;32m~/SpikeConfidence/utils.py\u001B[0m in \u001B[0;36m_prepare_metrics_data\u001B[0;34m(session, sorter_names, metric_names)\u001B[0m\n\u001B[1;32m     11\u001B[0m     \u001B[0mX\u001B[0m \u001B[0;34m=\u001B[0m \u001B[0mnp\u001B[0m\u001B[0;34m.\u001B[0m\u001B[0mempty\u001B[0m\u001B[0;34m(\u001B[0m\u001B[0mshape\u001B[0m\u001B[0;34m=\u001B[0m\u001B[0;34m(\u001B[0m\u001B[0;36m0\u001B[0m\u001B[0;34m,\u001B[0m \u001B[0mlen\u001B[0m\u001B[0;34m(\u001B[0m\u001B[0mmetric_names\u001B[0m\u001B[0;34m)\u001B[0m\u001B[0;34m)\u001B[0m\u001B[0;34m)\u001B[0m\u001B[0;34m\u001B[0m\u001B[0;34m\u001B[0m\u001B[0m\n\u001B[1;32m     12\u001B[0m     \u001B[0;32mfor\u001B[0m \u001B[0msorter_name\u001B[0m \u001B[0;32min\u001B[0m \u001B[0msorter_names\u001B[0m\u001B[0;34m:\u001B[0m\u001B[0;34m\u001B[0m\u001B[0;34m\u001B[0m\u001B[0m\n\u001B[0;32m---> 13\u001B[0;31m         \u001B[0mmetrics\u001B[0m \u001B[0;34m=\u001B[0m \u001B[0msession\u001B[0m\u001B[0;34m.\u001B[0m\u001B[0mget_sorter_metrics\u001B[0m\u001B[0;34m(\u001B[0m\u001B[0msorter_name\u001B[0m\u001B[0;34m=\u001B[0m\u001B[0msorter_name\u001B[0m\u001B[0;34m,\u001B[0m \u001B[0mmetric_names\u001B[0m\u001B[0;34m=\u001B[0m\u001B[0mmetric_names\u001B[0m\u001B[0;34m)\u001B[0m\u001B[0;34m\u001B[0m\u001B[0;34m\u001B[0m\u001B[0m\n\u001B[0m\u001B[1;32m     14\u001B[0m         \u001B[0mX\u001B[0m \u001B[0;34m=\u001B[0m \u001B[0mnp\u001B[0m\u001B[0;34m.\u001B[0m\u001B[0mvstack\u001B[0m\u001B[0;34m(\u001B[0m\u001B[0;34m[\u001B[0m\u001B[0mX\u001B[0m\u001B[0;34m,\u001B[0m \u001B[0mmetrics\u001B[0m\u001B[0;34m]\u001B[0m\u001B[0;34m)\u001B[0m\u001B[0;34m\u001B[0m\u001B[0;34m\u001B[0m\u001B[0m\n\u001B[1;32m     15\u001B[0m     \u001B[0;32mreturn\u001B[0m \u001B[0mX\u001B[0m\u001B[0;34m\u001B[0m\u001B[0;34m\u001B[0m\u001B[0m\n",
      "\u001B[0;32m~/SpikeConfidence/sorter.py\u001B[0m in \u001B[0;36mget_sorter_metrics\u001B[0;34m(self, sorter_name, metric_names)\u001B[0m\n\u001B[1;32m    101\u001B[0m \u001B[0;34m\u001B[0m\u001B[0m\n\u001B[1;32m    102\u001B[0m             \u001B[0;32mif\u001B[0m \u001B[0mmetrics_to_calc\u001B[0m\u001B[0;34m:\u001B[0m\u001B[0;34m\u001B[0m\u001B[0;34m\u001B[0m\u001B[0m\n\u001B[0;32m--> 103\u001B[0;31m                 new_metrics = st.validation.compute_quality_metrics(\n\u001B[0m\u001B[1;32m    104\u001B[0m                     \u001B[0msorting\u001B[0m\u001B[0;34m,\u001B[0m \u001B[0mself\u001B[0m\u001B[0;34m.\u001B[0m\u001B[0mrecording\u001B[0m\u001B[0;34m,\u001B[0m\u001B[0;34m\u001B[0m\u001B[0;34m\u001B[0m\u001B[0m\n\u001B[1;32m    105\u001B[0m                     \u001B[0mmetric_names\u001B[0m\u001B[0;34m=\u001B[0m\u001B[0mmetrics_to_calc\u001B[0m\u001B[0;34m,\u001B[0m\u001B[0;34m\u001B[0m\u001B[0;34m\u001B[0m\u001B[0m\n",
      "\u001B[0;32m~/.local/share/pyenv/versions/SpikeConfidence/lib/python3.8/site-packages/spiketoolkit-0.7.2-py3.8.egg/spiketoolkit/validation/quality_metrics.py\u001B[0m in \u001B[0;36mcompute_quality_metrics\u001B[0;34m(sorting, recording, duration_in_frames, sampling_frequency, metric_names, unit_ids, as_dataframe, isi_threshold, min_isi, snr_mode, snr_noise_duration, max_spikes_per_unit_for_snr, template_mode, max_channel_peak, max_spikes_per_unit_for_noise_overlap, noise_overlap_num_features, noise_overlap_num_knn, drift_metrics_interval_s, drift_metrics_min_spikes_per_interval, max_spikes_for_silhouette, num_channels_to_compare, max_spikes_per_cluster, max_spikes_for_nn, n_neighbors, **kwargs)\u001B[0m\n\u001B[1;32m   1289\u001B[0m     \u001B[0;32mif\u001B[0m \u001B[0;34m\"d_prime\"\u001B[0m \u001B[0;32min\u001B[0m \u001B[0mmetric_names\u001B[0m\u001B[0;34m:\u001B[0m\u001B[0;34m\u001B[0m\u001B[0;34m\u001B[0m\u001B[0m\n\u001B[1;32m   1290\u001B[0m         \u001B[0md_prime\u001B[0m \u001B[0;34m=\u001B[0m \u001B[0mDPrime\u001B[0m\u001B[0;34m(\u001B[0m\u001B[0mmetric_data\u001B[0m\u001B[0;34m=\u001B[0m\u001B[0mmd\u001B[0m\u001B[0;34m)\u001B[0m\u001B[0;34m\u001B[0m\u001B[0;34m\u001B[0m\u001B[0m\n\u001B[0;32m-> 1291\u001B[0;31m         \u001B[0md_primes\u001B[0m \u001B[0;34m=\u001B[0m \u001B[0md_prime\u001B[0m\u001B[0;34m.\u001B[0m\u001B[0mcompute_metric\u001B[0m\u001B[0;34m(\u001B[0m\u001B[0mnum_channels_to_compare\u001B[0m\u001B[0;34m,\u001B[0m \u001B[0mmax_spikes_per_cluster\u001B[0m\u001B[0;34m,\u001B[0m \u001B[0;34m**\u001B[0m\u001B[0mkwargs\u001B[0m\u001B[0;34m)\u001B[0m\u001B[0;34m\u001B[0m\u001B[0;34m\u001B[0m\u001B[0m\n\u001B[0m\u001B[1;32m   1292\u001B[0m         \u001B[0mmetrics_dict\u001B[0m\u001B[0;34m[\u001B[0m\u001B[0;34m'd_prime'\u001B[0m\u001B[0;34m]\u001B[0m \u001B[0;34m=\u001B[0m \u001B[0md_primes\u001B[0m\u001B[0;34m\u001B[0m\u001B[0;34m\u001B[0m\u001B[0m\n\u001B[1;32m   1293\u001B[0m \u001B[0;34m\u001B[0m\u001B[0m\n",
      "\u001B[0;32m~/.local/share/pyenv/versions/SpikeConfidence/lib/python3.8/site-packages/spiketoolkit-0.7.2-py3.8.egg/spiketoolkit/validation/quality_metric_classes/d_prime.py\u001B[0m in \u001B[0;36mcompute_metric\u001B[0;34m(self, num_channels_to_compare, max_spikes_per_cluster, **kwargs)\u001B[0m\n\u001B[1;32m     23\u001B[0m         \u001B[0mseed\u001B[0m \u001B[0;34m=\u001B[0m \u001B[0mparams_dict\u001B[0m\u001B[0;34m[\u001B[0m\u001B[0;34m'seed'\u001B[0m\u001B[0;34m]\u001B[0m\u001B[0;34m\u001B[0m\u001B[0;34m\u001B[0m\u001B[0m\n\u001B[1;32m     24\u001B[0m         \u001B[0msave_property_or_features\u001B[0m \u001B[0;34m=\u001B[0m \u001B[0mparams_dict\u001B[0m\u001B[0;34m[\u001B[0m\u001B[0;34m'save_property_or_features'\u001B[0m\u001B[0;34m]\u001B[0m\u001B[0;34m\u001B[0m\u001B[0;34m\u001B[0m\u001B[0m\n\u001B[0;32m---> 25\u001B[0;31m         d_primes_all = metrics.calculate_pc_metrics(\n\u001B[0m\u001B[1;32m     26\u001B[0m             \u001B[0mspike_clusters\u001B[0m\u001B[0;34m=\u001B[0m\u001B[0mself\u001B[0m\u001B[0;34m.\u001B[0m\u001B[0m_metric_data\u001B[0m\u001B[0;34m.\u001B[0m\u001B[0m_spike_clusters_pca\u001B[0m\u001B[0;34m,\u001B[0m\u001B[0;34m\u001B[0m\u001B[0;34m\u001B[0m\u001B[0m\n\u001B[1;32m     27\u001B[0m             \u001B[0mtotal_units\u001B[0m\u001B[0;34m=\u001B[0m\u001B[0mself\u001B[0m\u001B[0;34m.\u001B[0m\u001B[0m_metric_data\u001B[0m\u001B[0;34m.\u001B[0m\u001B[0m_total_units\u001B[0m\u001B[0;34m,\u001B[0m\u001B[0;34m\u001B[0m\u001B[0;34m\u001B[0m\u001B[0m\n",
      "\u001B[0;32m~/.local/share/pyenv/versions/SpikeConfidence/lib/python3.8/site-packages/spikemetrics/metrics.py\u001B[0m in \u001B[0;36mcalculate_pc_metrics\u001B[0;34m(spike_clusters, total_units, pc_features, pc_feature_ind, num_channels_to_compare, max_spikes_for_cluster, spikes_for_nn, n_neighbors, channel_locations, min_num_pcs, metric_names, seed, spike_cluster_subset, verbose)\u001B[0m\n\u001B[1;32m    401\u001B[0m \u001B[0;34m\u001B[0m\u001B[0m\n\u001B[1;32m    402\u001B[0m             \u001B[0;32mif\u001B[0m \u001B[0;34m'd_prime'\u001B[0m \u001B[0;32min\u001B[0m \u001B[0mmetric_names\u001B[0m\u001B[0;34m:\u001B[0m\u001B[0;34m\u001B[0m\u001B[0;34m\u001B[0m\u001B[0m\n\u001B[0;32m--> 403\u001B[0;31m                 \u001B[0md_primes\u001B[0m\u001B[0;34m[\u001B[0m\u001B[0midx\u001B[0m\u001B[0;34m]\u001B[0m \u001B[0;34m=\u001B[0m \u001B[0mlda_metrics\u001B[0m\u001B[0;34m(\u001B[0m\u001B[0mall_pcs\u001B[0m\u001B[0;34m,\u001B[0m \u001B[0mall_labels\u001B[0m\u001B[0;34m,\u001B[0m \u001B[0mcluster_id\u001B[0m\u001B[0;34m)\u001B[0m\u001B[0;34m\u001B[0m\u001B[0;34m\u001B[0m\u001B[0m\n\u001B[0m\u001B[1;32m    404\u001B[0m             \u001B[0;32melse\u001B[0m\u001B[0;34m:\u001B[0m\u001B[0;34m\u001B[0m\u001B[0;34m\u001B[0m\u001B[0m\n\u001B[1;32m    405\u001B[0m                 \u001B[0md_primes\u001B[0m\u001B[0;34m[\u001B[0m\u001B[0midx\u001B[0m\u001B[0;34m]\u001B[0m \u001B[0;34m=\u001B[0m \u001B[0mnp\u001B[0m\u001B[0;34m.\u001B[0m\u001B[0mnan\u001B[0m\u001B[0;34m\u001B[0m\u001B[0;34m\u001B[0m\u001B[0m\n",
      "\u001B[0;32m~/.local/share/pyenv/versions/SpikeConfidence/lib/python3.8/site-packages/spikemetrics/metrics.py\u001B[0m in \u001B[0;36mlda_metrics\u001B[0;34m(all_pcs, all_labels, this_unit_id)\u001B[0m\n\u001B[1;32m    768\u001B[0m     \u001B[0mlda\u001B[0m \u001B[0;34m=\u001B[0m \u001B[0mLDA\u001B[0m\u001B[0;34m(\u001B[0m\u001B[0mn_components\u001B[0m\u001B[0;34m=\u001B[0m\u001B[0;36m1\u001B[0m\u001B[0;34m)\u001B[0m\u001B[0;34m\u001B[0m\u001B[0;34m\u001B[0m\u001B[0m\n\u001B[1;32m    769\u001B[0m \u001B[0;34m\u001B[0m\u001B[0m\n\u001B[0;32m--> 770\u001B[0;31m     \u001B[0mX_flda\u001B[0m \u001B[0;34m=\u001B[0m \u001B[0mlda\u001B[0m\u001B[0;34m.\u001B[0m\u001B[0mfit_transform\u001B[0m\u001B[0;34m(\u001B[0m\u001B[0mX\u001B[0m\u001B[0;34m,\u001B[0m \u001B[0my\u001B[0m\u001B[0;34m)\u001B[0m\u001B[0;34m\u001B[0m\u001B[0;34m\u001B[0m\u001B[0m\n\u001B[0m\u001B[1;32m    771\u001B[0m \u001B[0;34m\u001B[0m\u001B[0m\n\u001B[1;32m    772\u001B[0m     \u001B[0mflda_this_cluster\u001B[0m \u001B[0;34m=\u001B[0m \u001B[0mX_flda\u001B[0m\u001B[0;34m[\u001B[0m\u001B[0mnp\u001B[0m\u001B[0;34m.\u001B[0m\u001B[0mwhere\u001B[0m\u001B[0;34m(\u001B[0m\u001B[0my\u001B[0m\u001B[0;34m)\u001B[0m\u001B[0;34m[\u001B[0m\u001B[0;36m0\u001B[0m\u001B[0;34m]\u001B[0m\u001B[0;34m]\u001B[0m\u001B[0;34m\u001B[0m\u001B[0;34m\u001B[0m\u001B[0m\n",
      "\u001B[0;32m~/.local/share/pyenv/versions/SpikeConfidence/lib/python3.8/site-packages/sklearn/base.py\u001B[0m in \u001B[0;36mfit_transform\u001B[0;34m(self, X, y, **fit_params)\u001B[0m\n\u001B[1;32m    700\u001B[0m         \u001B[0;32melse\u001B[0m\u001B[0;34m:\u001B[0m\u001B[0;34m\u001B[0m\u001B[0;34m\u001B[0m\u001B[0m\n\u001B[1;32m    701\u001B[0m             \u001B[0;31m# fit method of arity 2 (supervised transformation)\u001B[0m\u001B[0;34m\u001B[0m\u001B[0;34m\u001B[0m\u001B[0;34m\u001B[0m\u001B[0m\n\u001B[0;32m--> 702\u001B[0;31m             \u001B[0;32mreturn\u001B[0m \u001B[0mself\u001B[0m\u001B[0;34m.\u001B[0m\u001B[0mfit\u001B[0m\u001B[0;34m(\u001B[0m\u001B[0mX\u001B[0m\u001B[0;34m,\u001B[0m \u001B[0my\u001B[0m\u001B[0;34m,\u001B[0m \u001B[0;34m**\u001B[0m\u001B[0mfit_params\u001B[0m\u001B[0;34m)\u001B[0m\u001B[0;34m.\u001B[0m\u001B[0mtransform\u001B[0m\u001B[0;34m(\u001B[0m\u001B[0mX\u001B[0m\u001B[0;34m)\u001B[0m\u001B[0;34m\u001B[0m\u001B[0;34m\u001B[0m\u001B[0m\n\u001B[0m\u001B[1;32m    703\u001B[0m \u001B[0;34m\u001B[0m\u001B[0m\n\u001B[1;32m    704\u001B[0m \u001B[0;34m\u001B[0m\u001B[0m\n",
      "\u001B[0;32m~/.local/share/pyenv/versions/SpikeConfidence/lib/python3.8/site-packages/sklearn/discriminant_analysis.py\u001B[0m in \u001B[0;36mfit\u001B[0;34m(self, X, y)\u001B[0m\n\u001B[1;32m    537\u001B[0m         \u001B[0;32melse\u001B[0m\u001B[0;34m:\u001B[0m\u001B[0;34m\u001B[0m\u001B[0;34m\u001B[0m\u001B[0m\n\u001B[1;32m    538\u001B[0m             \u001B[0;32mif\u001B[0m \u001B[0mself\u001B[0m\u001B[0;34m.\u001B[0m\u001B[0mn_components\u001B[0m \u001B[0;34m>\u001B[0m \u001B[0mmax_components\u001B[0m\u001B[0;34m:\u001B[0m\u001B[0;34m\u001B[0m\u001B[0;34m\u001B[0m\u001B[0m\n\u001B[0;32m--> 539\u001B[0;31m                 raise ValueError(\n\u001B[0m\u001B[1;32m    540\u001B[0m                     \u001B[0;34m\"n_components cannot be larger than min(n_features, \"\u001B[0m\u001B[0;34m\u001B[0m\u001B[0;34m\u001B[0m\u001B[0m\n\u001B[1;32m    541\u001B[0m                     \u001B[0;34m\"n_classes - 1).\"\u001B[0m\u001B[0;34m\u001B[0m\u001B[0;34m\u001B[0m\u001B[0m\n",
      "\u001B[0;31mValueError\u001B[0m: n_components cannot be larger than min(n_features, n_classes - 1)."
     ]
    }
   ],
   "source": [
    "# Preparing dataset\n",
    "\n",
    "X, y = prepare_dataset(dataset_paths=dataset_paths,\n",
    "                       sorter_names=sorter_names, metric_names=metric_names\n",
    "                       )\n",
    "\n",
    "#Standard scalar shouldn't affect Logistic regression, but it does in this case (for mountainsort4)\n",
    "model = make_pipeline(StandardScaler(), LogisticRegression())\n",
    "# Cross validation code\n",
    "# cv = ShuffleSplit(n_splits=5, test_size=0.3, random_state=0)\n",
    "# score = cross_val_score(model, X, y, cv=cv)\n",
    "\n",
    "X_train, X_test, y_train, y_test = train_test_split(X, y, test_size=0.33, random_state=0)\n",
    "\n",
    "scaler = StandardScaler().fit(X_train)\n",
    "X_train_transformed = scaler.transform(X_train)\n",
    "X_test_transformed = scaler.transform(X_test)\n",
    "\n",
    "# False positive classification via logistic regression\n",
    "model.fit(X_train_transformed, y_train)\n",
    "model_accuracy = model.score(X_test_transformed, y_test)\n",
    "print(f\"Full metrics model accuracy is {model_accuracy}\")"
   ],
   "metadata": {
    "collapsed": false,
    "pycharm": {
     "name": "#%%\n"
    }
   }
  },
  {
   "cell_type": "code",
   "execution_count": 6,
   "outputs": [
    {
     "name": "stderr",
     "output_type": "stream",
     "text": [
      "/home/mclancy/.local/share/pyenv/versions/SpikeConfidence/lib/python3.8/site-packages/ipykernel/ipkernel.py:283: DeprecationWarning: `should_run_async` will not call `transform_cell` automatically in the future. Please pass the result to `transformed_cell` argument and any exception that happen during thetransform in `preprocessing_exc_tuple` in IPython 7.17 and above.\n",
      "  and should_run_async(code)\n"
     ]
    }
   ],
   "source": [
    "ranked_metrics_index = sorted(range(len(metric_names)), key=lambda k: abs(model.named_steps.logisticregression.coef_[0][k]), reverse=True)"
   ],
   "metadata": {
    "collapsed": false,
    "pycharm": {
     "name": "#%%\n"
    }
   }
  },
  {
   "cell_type": "markdown",
   "source": [
    "For the k most important features, plot the training accuracies.\n",
    "As the input data is standardised, the coefficients can be ranked by their absolute value.\n",
    "\n",
    "We can retrain the logistic regression with the reduced metric set,\n",
    "and as a result can assess the redundancy of the metrics."
   ],
   "metadata": {
    "collapsed": false,
    "pycharm": {
     "name": "#%% md\n"
    }
   }
  },
  {
   "cell_type": "code",
   "execution_count": 16,
   "outputs": [
    {
     "name": "stdout",
     "output_type": "stream",
     "text": [
      "Features are ['l_ratio']\n",
      "F1 Score is 0.8702634292752892\n",
      "Features are ['l_ratio' 'presence_ratio']\n",
      "F1 Score is 0.8962370736136516\n",
      "Features are ['l_ratio' 'presence_ratio' 'max_drift']\n",
      "F1 Score is 0.8791709634629538\n",
      "Features are ['l_ratio' 'presence_ratio' 'max_drift' 'snr']\n",
      "F1 Score is 0.9045381077245596\n",
      "Features are ['l_ratio' 'presence_ratio' 'max_drift' 'snr' 'cumulative_drift']\n",
      "F1 Score is 0.900474306946799\n",
      "Features are ['l_ratio' 'presence_ratio' 'max_drift' 'snr' 'cumulative_drift'\n",
      " 'nn_hit_rate']\n",
      "F1 Score is 0.9047007979704116\n",
      "Features are ['l_ratio' 'presence_ratio' 'max_drift' 'snr' 'cumulative_drift'\n",
      " 'nn_hit_rate' 'nn_miss_rate']\n",
      "F1 Score is 0.9002971821773101\n",
      "Features are ['l_ratio' 'presence_ratio' 'max_drift' 'snr' 'cumulative_drift'\n",
      " 'nn_hit_rate' 'nn_miss_rate' 'firing_rate']\n",
      "F1 Score is 0.9002971821773101\n",
      "Features are ['l_ratio' 'presence_ratio' 'max_drift' 'snr' 'cumulative_drift'\n",
      " 'nn_hit_rate' 'nn_miss_rate' 'firing_rate' 'num_spikes']\n",
      "F1 Score is 0.9002971821773101\n",
      "Features are ['l_ratio' 'presence_ratio' 'max_drift' 'snr' 'cumulative_drift'\n",
      " 'nn_hit_rate' 'nn_miss_rate' 'firing_rate' 'num_spikes'\n",
      " 'silhouette_score']\n",
      "F1 Score is 0.9002971821773101\n",
      "Features are ['l_ratio' 'presence_ratio' 'max_drift' 'snr' 'cumulative_drift'\n",
      " 'nn_hit_rate' 'nn_miss_rate' 'firing_rate' 'num_spikes'\n",
      " 'silhouette_score' 'isolation_distance']\n",
      "F1 Score is 0.9002971821773101\n",
      "Features are ['l_ratio' 'presence_ratio' 'max_drift' 'snr' 'cumulative_drift'\n",
      " 'nn_hit_rate' 'nn_miss_rate' 'firing_rate' 'num_spikes'\n",
      " 'silhouette_score' 'isolation_distance' 'amplitude_cutoff']\n",
      "F1 Score is 0.9043612631335849\n",
      "Features are ['l_ratio' 'presence_ratio' 'max_drift' 'snr' 'cumulative_drift'\n",
      " 'nn_hit_rate' 'nn_miss_rate' 'firing_rate' 'num_spikes'\n",
      " 'silhouette_score' 'isolation_distance' 'amplitude_cutoff'\n",
      " 'isi_violation']\n",
      "F1 Score is 0.9043612631335849\n"
     ]
    }
   ],
   "source": [
    "accuracies = []\n",
    "for i in range(1, len(ranked_metrics_index)+1):\n",
    "    m_names = metric_names[ranked_metrics_index[:i]]\n",
    "    print(f\"Features are {m_names}\")\n",
    "\n",
    "    X, y = prepare_dataset(dataset_paths=dataset_paths, metric_names=m_names, sorter_names=sorter_names)\n",
    "\n",
    "    X_train, X_test, y_train, y_test = train_test_split(X, y, test_size=0.33, random_state=0)\n",
    "\n",
    "    scaler = StandardScaler().fit(X_train)\n",
    "    X_train_transformed = scaler.transform(X_train)\n",
    "    X_test_transformed = scaler.transform(X_test)\n",
    "\n",
    "    # False positive classification via logistic regression\n",
    "    model = make_pipeline(scaler, LogisticRegression())\n",
    "    model.fit(X_train_transformed, y_train)\n",
    "    y_preds = model.predict(X_test_transformed)\n",
    "    model_f1_score = f1_score(y_test, y_preds, average='binary')\n",
    "    accuracies.append(model_f1_score)\n",
    "    print(f\"F1 Score is {model_f1_score}\")"
   ],
   "metadata": {
    "collapsed": false,
    "pycharm": {
     "name": "#%%\n"
    }
   }
  },
  {
   "cell_type": "code",
   "execution_count": null,
   "outputs": [],
   "source": [
    "plt.clf()\n",
    "plt.plot(range(len(metric_names)), accuracies)\n",
    "plt.suptitle(\"Logistic regression performances with best k features\")\n",
    "plt.xlabel('k (num features)')\n",
    "plt.ylabel('F1 Score')\n",
    "plt.xticks(np.arange(1, len(metric_names)+1))\n",
    "plt.yticks(np.arange(0.84, 0.95, 0.01))"
   ],
   "metadata": {
    "collapsed": false,
    "pycharm": {
     "name": "#%%\n",
     "is_executing": true
    }
   }
  }
 ],
 "metadata": {
  "kernelspec": {
   "name": "python3",
   "language": "python",
   "display_name": "Python 3"
  },
  "language_info": {
   "codemirror_mode": {
    "name": "ipython",
    "version": 2
   },
   "file_extension": ".py",
   "mimetype": "text/x-python",
   "name": "python",
   "nbconvert_exporter": "python",
   "pygments_lexer": "ipython2",
   "version": "2.7.6"
  }
 },
 "nbformat": 4,
 "nbformat_minor": 0
}
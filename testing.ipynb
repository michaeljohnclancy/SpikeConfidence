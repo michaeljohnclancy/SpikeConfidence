{
 "cells": [
  {
   "cell_type": "code",
   "execution_count": 1,
   "metadata": {
    "collapsed": true
   },
   "outputs": [
    {
     "name": "stdout",
     "output_type": "stream",
     "text": [
      "Setting IRONCLUST_PATH environment variable for subprocess calls to: /home/mclancy/SpikeConfidence/spikesorters/ironclust\n"
     ]
    }
   ],
   "source": [
    "import os\n",
    "import matplotlib.pyplot as plt\n",
    "\n",
    "from pathlib import Path\n",
    "import statsmodels.api as sm\n",
    "from sklearn.model_selection import train_test_split\n",
    "\n",
    "from spikesorters.sorterlist import sorter_dict\n",
    "from utils import prepare_hungarian_agreement_dataset\n",
    "import spikesorters as ss\n",
    "\n",
    "os.environ[\"TMP\"] = \"/home/mclancy/SpikeConfidence/.tmp/\"\n",
    "os.environ[\"TMPDIR\"] = \"/home/mclancy/SpikeConfidence/.tmp/\"\n",
    "os.environ[\"TEMPDIR\"] = \"/home/mclancy/SpikeConfidence/.tmp/\"\n",
    "os.environ[\"ML_TEMPORARY_DIRECTORY\"] = \"/home/mclancy/SpikeConfidence/.tmp\"\n",
    "\n",
    "base_dir = Path('/home/mclancy/SpikeConfidence/')\n",
    "analyses_dir = base_dir / 'analyses'\n",
    "spike_sorter_dir = base_dir / 'spikesorters'\n",
    "\n",
    "# # kilosort2\n",
    "# !git clone https://github.com/MouseLand/Kilosort2.git\n",
    "# kilosort2_path = spike_sorter_dir / 'Kilosort2.5'\n",
    "# ss.Kilosort2Sorter.set_kilosort2_path(kilosort2_path)\n",
    "\n",
    "ss.IronClustSorter.set_ironclust_path(spike_sorter_dir / 'ironclust')"
   ]
  },
  {
   "cell_type": "code",
   "execution_count": null,
   "outputs": [
    {
     "name": "stderr",
     "output_type": "stream",
     "text": [
      "/home/mclancy/.local/share/pyenv/versions/SpikeConfidence/lib/python3.8/site-packages/ipykernel/ipkernel.py:287: DeprecationWarning: `should_run_async` will not call `transform_cell` automatically in the future. Please pass the result to `transformed_cell` argument and any exception that happen during thetransform in `preprocessing_exc_tuple` in IPython 7.17 and above.\n",
      "  and should_run_async(code)\n"
     ]
    },
    {
     "name": "stdout",
     "output_type": "stream",
     "text": [
      "Running mountainsort4...\n"
     ]
    }
   ],
   "source": [
    "dataset_path = Path(\"/home/mclancy/SpikeConfidence/analyses/recordings_50cells_SqMEA_2020/recordings_50cells_SqMEA-10-15_600.0_10.0uV_21-01-2020_18-12.h5\")\n",
    "# session = SpikeSorter(dataset_path)\n",
    "# recording = session.get_recording()\n",
    "# ground_truth = session.get_ground_truth()\n",
    "#\n",
    "#\n",
    "# sorting = session.get_sorting(sorter_name='herdingspikes')\n",
    "\n",
    "# sorter_names = ['klusta', 'tridesclous', 'mountainsort4',\n",
    "#                 'ironclust', 'kilosort', 'kilosort2', 'kilosort2_5',\n",
    "#                 'waveclus']\n",
    "\n",
    "sorter_names = ['herdingspikes', 'spykingcircus', 'ironclust', 'tridesclous', 'mountainsort4']\n",
    "\n",
    "metric_names = [\"num_spikes\", \"firing_rate\", \"presence_ratio\",\n",
    "                \"isi_violation\", \"amplitude_cutoff\", \"snr\",\n",
    "                \"max_drift\", \"cumulative_drift\", \"silhouette_score\",\n",
    "                \"isolation_distance\", \"l_ratio\",\n",
    "                \"nn_hit_rate\", \"nn_miss_rate\"] #\"d_prime\",\n",
    "\n",
    "X, y = prepare_hungarian_agreement_dataset(dataset_path=dataset_path, sorter_names=sorter_names, metric_names=metric_names)"
   ],
   "metadata": {
    "collapsed": false,
    "pycharm": {
     "name": "#%%\n",
     "is_executing": true
    }
   }
  },
  {
   "cell_type": "code",
   "execution_count": 4,
   "outputs": [],
   "source": [
    "X_train, X_test, y_train, y_test = train_test_split(X, y, test_size=0.33, random_state=0)"
   ],
   "metadata": {
    "collapsed": false,
    "pycharm": {
     "name": "#%%\n"
    }
   }
  },
  {
   "cell_type": "code",
   "execution_count": 13,
   "outputs": [],
   "source": [
    "linear_glm = sm.GLM(y_train, X_train, family=sm.families.Binomial())\n",
    "linear_result = linear_glm.fit()"
   ],
   "metadata": {
    "collapsed": false,
    "pycharm": {
     "name": "#%%\n"
    }
   }
  },
  {
   "cell_type": "code",
   "execution_count": 14,
   "outputs": [
    {
     "ename": "ValueError",
     "evalue": "shapes (112,13) and (56,13) not aligned: 13 (dim 1) != 56 (dim 0)",
     "output_type": "error",
     "traceback": [
      "\u001B[0;31m---------------------------------------------------------------------------\u001B[0m",
      "\u001B[0;31mValueError\u001B[0m                                Traceback (most recent call last)",
      "\u001B[0;32m<ipython-input-14-0a708a0e5cc9>\u001B[0m in \u001B[0;36m<module>\u001B[0;34m\u001B[0m\n\u001B[0;32m----> 1\u001B[0;31m \u001B[0my_test_preds\u001B[0m \u001B[0;34m=\u001B[0m \u001B[0mlinear_glm\u001B[0m\u001B[0;34m.\u001B[0m\u001B[0mpredict\u001B[0m\u001B[0;34m(\u001B[0m\u001B[0mX_test\u001B[0m\u001B[0;34m)\u001B[0m\u001B[0;34m\u001B[0m\u001B[0;34m\u001B[0m\u001B[0m\n\u001B[0m\u001B[1;32m      2\u001B[0m \u001B[0;34m\u001B[0m\u001B[0m\n\u001B[1;32m      3\u001B[0m \u001B[0;31m# plt.plot(y, linear_result.predict(X), 'o', alpha=0.2);\u001B[0m\u001B[0;34m\u001B[0m\u001B[0;34m\u001B[0m\u001B[0;34m\u001B[0m\u001B[0m\n\u001B[1;32m      4\u001B[0m \u001B[0;34m\u001B[0m\u001B[0m\n",
      "\u001B[0;32m~/.local/share/pyenv/versions/SpikeConfidence/lib/python3.8/site-packages/statsmodels/genmod/generalized_linear_model.py\u001B[0m in \u001B[0;36mpredict\u001B[0;34m(self, params, exog, exposure, offset, linear)\u001B[0m\n\u001B[1;32m    894\u001B[0m             \u001B[0mexog\u001B[0m \u001B[0;34m=\u001B[0m \u001B[0mself\u001B[0m\u001B[0;34m.\u001B[0m\u001B[0mexog\u001B[0m\u001B[0;34m\u001B[0m\u001B[0;34m\u001B[0m\u001B[0m\n\u001B[1;32m    895\u001B[0m \u001B[0;34m\u001B[0m\u001B[0m\n\u001B[0;32m--> 896\u001B[0;31m         \u001B[0mlinpred\u001B[0m \u001B[0;34m=\u001B[0m \u001B[0mnp\u001B[0m\u001B[0;34m.\u001B[0m\u001B[0mdot\u001B[0m\u001B[0;34m(\u001B[0m\u001B[0mexog\u001B[0m\u001B[0;34m,\u001B[0m \u001B[0mparams\u001B[0m\u001B[0;34m)\u001B[0m \u001B[0;34m+\u001B[0m \u001B[0moffset\u001B[0m \u001B[0;34m+\u001B[0m \u001B[0mexposure\u001B[0m\u001B[0;34m\u001B[0m\u001B[0;34m\u001B[0m\u001B[0m\n\u001B[0m\u001B[1;32m    897\u001B[0m         \u001B[0;32mif\u001B[0m \u001B[0mlinear\u001B[0m\u001B[0;34m:\u001B[0m\u001B[0;34m\u001B[0m\u001B[0;34m\u001B[0m\u001B[0m\n\u001B[1;32m    898\u001B[0m             \u001B[0;32mreturn\u001B[0m \u001B[0mlinpred\u001B[0m\u001B[0;34m\u001B[0m\u001B[0;34m\u001B[0m\u001B[0m\n",
      "\u001B[0;32m<__array_function__ internals>\u001B[0m in \u001B[0;36mdot\u001B[0;34m(*args, **kwargs)\u001B[0m\n",
      "\u001B[0;31mValueError\u001B[0m: shapes (112,13) and (56,13) not aligned: 13 (dim 1) != 56 (dim 0)"
     ]
    }
   ],
   "source": [
    "y_test_preds = linear_glm.predict(X_test)\n",
    "\n",
    "# plt.plot(y, linear_result.predict(X), 'o', alpha=0.2);\n"
   ],
   "metadata": {
    "collapsed": false,
    "pycharm": {
     "name": "#%%\n"
    }
   }
  },
  {
   "cell_type": "code",
   "execution_count": null,
   "outputs": [],
   "source": [
    "print(X_train)"
   ],
   "metadata": {
    "collapsed": false,
    "pycharm": {
     "name": "#%%\n",
     "is_executing": true
    }
   }
  }
 ],
 "metadata": {
  "kernelspec": {
   "display_name": "Python 3",
   "language": "python",
   "name": "python3"
  },
  "language_info": {
   "codemirror_mode": {
    "name": "ipython",
    "version": 2
   },
   "file_extension": ".py",
   "mimetype": "text/x-python",
   "name": "python",
   "nbconvert_exporter": "python",
   "pygments_lexer": "ipython2",
   "version": "2.7.6"
  }
 },
 "nbformat": 4,
 "nbformat_minor": 0
}
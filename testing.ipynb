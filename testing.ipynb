{
 "cells": [
  {
   "cell_type": "code",
   "execution_count": 1,
   "metadata": {
    "collapsed": true
   },
   "outputs": [],
   "source": [
    "import os\n",
    "import matplotlib.pyplot as plt\n",
    "\n",
    "from pathlib import Path\n",
    "import statsmodels.api as sm\n",
    "from sklearn.model_selection import train_test_split\n",
    "from sklearn.preprocessing import StandardScaler\n",
    "from sklearn.linear_model import LogisticRegression\n",
    "\n",
    "from utils import prepare_agreement_score_dataset, prepare_false_positive_dataset\n",
    "import spikesorters as ss"
   ]
  },
  {
   "cell_type": "code",
   "execution_count": 45,
   "outputs": [
    {
     "name": "stdout",
     "output_type": "stream",
     "text": [
      "Setting IRONCLUST_PATH environment variable for subprocess calls to: /home/mclancy/SpikeConfidence/spikesorters/ironclust\n"
     ]
    }
   ],
   "source": [
    "os.environ[\"TMP\"] = \"/home/mclancy/SpikeConfidence/.tmp/\"\n",
    "os.environ[\"TMPDIR\"] = \"/home/mclancy/SpikeConfidence/.tmp/\"\n",
    "os.environ[\"TEMPDIR\"] = \"/home/mclancy/SpikeConfidence/.tmp/\"\n",
    "os.environ[\"ML_TEMPORARY_DIRECTORY\"] = \"/home/mclancy/SpikeConfidence/.tmp\"\n",
    "\n",
    "base_dir = Path('/home/mclancy/SpikeConfidence/')\n",
    "analyses_dir = base_dir / 'analyses'\n",
    "spike_sorter_dir = base_dir / 'spikesorters'\n",
    "\n",
    "# # kilosort2\n",
    "# !git clone https://github.com/MouseLand/Kilosort2.git\n",
    "# kilosort2_path = spike_sorter_dir / 'Kilosort2.5'\n",
    "# ss.Kilosort2Sorter.set_kilosort2_path(kilosort2_path)\n",
    "\n",
    "ss.IronClustSorter.set_ironclust_path(spike_sorter_dir / 'ironclust')\n",
    "\n",
    "dataset_path = Path(\"/home/mclancy/SpikeConfidence/analyses/recordings_50cells_SqMEA_2020/recordings_50cells_SqMEA-10-15_600.0_10.0uV_21-01-2020_18-12.h5\")\n",
    "# session = SpikeSorter(dataset_path)\n",
    "# recording = session.get_recording()\n",
    "# ground_truth = session.get_ground_truth()\n",
    "#\n",
    "#\n",
    "# sorting = session.get_sorting(sorter_name='herdingspikes')\n",
    "\n",
    "# sorter_names = ['klusta', 'tridesclous', 'mountainsort4',\n",
    "#                 'ironclust', 'kilosort', 'kilosort2', 'kilosort2_5',\n",
    "#                 'waveclus']\n",
    "\n",
    "sorter_names = ['herdingspikes', 'spykingcircus', 'ironclust', 'tridesclous', 'mountainsort4']\n",
    "\n",
    "metric_names = [\"num_spikes\", \"firing_rate\", \"presence_ratio\",\n",
    "                \"isi_violation\", \"amplitude_cutoff\", \"snr\",\n",
    "                \"max_drift\", \"cumulative_drift\", \"silhouette_score\",\n",
    "                \"isolation_distance\", \"l_ratio\",\n",
    "                \"nn_hit_rate\", \"nn_miss_rate\", \"d_prime\"]"
   ],
   "metadata": {
    "collapsed": false,
    "pycharm": {
     "name": "#%%\n"
    }
   }
  },
  {
   "cell_type": "code",
   "execution_count": 24,
   "outputs": [
    {
     "ename": "ValueError",
     "evalue": "shapes (310,13) and (153,13) not aligned: 13 (dim 1) != 153 (dim 0)",
     "output_type": "error",
     "traceback": [
      "\u001B[0;31m---------------------------------------------------------------------------\u001B[0m",
      "\u001B[0;31mValueError\u001B[0m                                Traceback (most recent call last)",
      "\u001B[0;32m<ipython-input-24-2ade19753e34>\u001B[0m in \u001B[0;36m<module>\u001B[0;34m\u001B[0m\n\u001B[1;32m     12\u001B[0m \u001B[0mlinear_result\u001B[0m \u001B[0;34m=\u001B[0m \u001B[0mlinear_glm\u001B[0m\u001B[0;34m.\u001B[0m\u001B[0mfit\u001B[0m\u001B[0;34m(\u001B[0m\u001B[0;34m)\u001B[0m\u001B[0;34m\u001B[0m\u001B[0;34m\u001B[0m\u001B[0m\n\u001B[1;32m     13\u001B[0m \u001B[0;34m\u001B[0m\u001B[0m\n\u001B[0;32m---> 14\u001B[0;31m \u001B[0my_test_preds\u001B[0m \u001B[0;34m=\u001B[0m \u001B[0mlinear_glm\u001B[0m\u001B[0;34m.\u001B[0m\u001B[0mpredict\u001B[0m\u001B[0;34m(\u001B[0m\u001B[0mX_test\u001B[0m\u001B[0;34m)\u001B[0m\u001B[0;34m\u001B[0m\u001B[0;34m\u001B[0m\u001B[0m\n\u001B[0m\u001B[1;32m     15\u001B[0m \u001B[0;31m# plt.plot(y, linear_result.predict(X), 'o', alpha=0.2);\u001B[0m\u001B[0;34m\u001B[0m\u001B[0;34m\u001B[0m\u001B[0;34m\u001B[0m\u001B[0m\n",
      "\u001B[0;32m~/.local/share/pyenv/versions/SpikeConfidence/lib/python3.8/site-packages/statsmodels/genmod/generalized_linear_model.py\u001B[0m in \u001B[0;36mpredict\u001B[0;34m(self, params, exog, exposure, offset, linear)\u001B[0m\n\u001B[1;32m    894\u001B[0m             \u001B[0mexog\u001B[0m \u001B[0;34m=\u001B[0m \u001B[0mself\u001B[0m\u001B[0;34m.\u001B[0m\u001B[0mexog\u001B[0m\u001B[0;34m\u001B[0m\u001B[0;34m\u001B[0m\u001B[0m\n\u001B[1;32m    895\u001B[0m \u001B[0;34m\u001B[0m\u001B[0m\n\u001B[0;32m--> 896\u001B[0;31m         \u001B[0mlinpred\u001B[0m \u001B[0;34m=\u001B[0m \u001B[0mnp\u001B[0m\u001B[0;34m.\u001B[0m\u001B[0mdot\u001B[0m\u001B[0;34m(\u001B[0m\u001B[0mexog\u001B[0m\u001B[0;34m,\u001B[0m \u001B[0mparams\u001B[0m\u001B[0;34m)\u001B[0m \u001B[0;34m+\u001B[0m \u001B[0moffset\u001B[0m \u001B[0;34m+\u001B[0m \u001B[0mexposure\u001B[0m\u001B[0;34m\u001B[0m\u001B[0;34m\u001B[0m\u001B[0m\n\u001B[0m\u001B[1;32m    897\u001B[0m         \u001B[0;32mif\u001B[0m \u001B[0mlinear\u001B[0m\u001B[0;34m:\u001B[0m\u001B[0;34m\u001B[0m\u001B[0;34m\u001B[0m\u001B[0m\n\u001B[1;32m    898\u001B[0m             \u001B[0;32mreturn\u001B[0m \u001B[0mlinpred\u001B[0m\u001B[0;34m\u001B[0m\u001B[0;34m\u001B[0m\u001B[0m\n",
      "\u001B[0;32m<__array_function__ internals>\u001B[0m in \u001B[0;36mdot\u001B[0;34m(*args, **kwargs)\u001B[0m\n",
      "\u001B[0;31mValueError\u001B[0m: shapes (310,13) and (153,13) not aligned: 13 (dim 1) != 153 (dim 0)"
     ]
    }
   ],
   "source": [
    "# Agreement score regression\n",
    "X, y = prepare_agreement_score_dataset(\n",
    "    dataset_path=dataset_path,\n",
    "    sorter_names=sorter_names,\n",
    "    metric_names=metric_names,\n",
    "    hungarian=True\n",
    ")\n",
    "\n",
    "X_train, X_test, y_train, y_test = train_test_split(X, y, test_size=0.33, random_state=0)\n",
    "\n",
    "linear_glm = sm.GLM(y_train, X_train, family=sm.families.Binomial())\n",
    "linear_result = linear_glm.fit()\n",
    "\n",
    "y_test_preds = linear_glm.predict(X_test)\n",
    "# plt.plot(y, linear_result.predict(X), 'o', alpha=0.2);"
   ],
   "metadata": {
    "collapsed": false,
    "pycharm": {
     "name": "#%%\n"
    }
   }
  },
  {
   "cell_type": "code",
   "execution_count": 46,
   "outputs": [
    {
     "name": "stdout",
     "output_type": "stream",
     "text": [
      "Warning: dumping a CacheRecordingExtractor. The path to the tmp binary file will be lost in further sessions. To prevent this, use the 'CacheRecordingExtractor.move_to('path-to-file)' function\n",
      "Warning: dumping a CacheRecordingExtractor. The path to the tmp binary file will be lost in further sessions. To prevent this, use the 'CacheRecordingExtractor.move_to('path-to-file)' function\n",
      "Warning: dumping a CacheRecordingExtractor. The path to the tmp binary file will be lost in further sessions. To prevent this, use the 'CacheRecordingExtractor.move_to('path-to-file)' function\n",
      "Warning: dumping a CacheRecordingExtractor. The path to the tmp binary file will be lost in further sessions. To prevent this, use the 'CacheRecordingExtractor.move_to('path-to-file)' function\n",
      "Warning: dumping a CacheRecordingExtractor. The path to the tmp binary file will be lost in further sessions. To prevent this, use the 'CacheRecordingExtractor.move_to('path-to-file)' function\n",
      "Warning: dumping a CacheRecordingExtractor. The path to the tmp binary file will be lost in further sessions. To prevent this, use the 'CacheRecordingExtractor.move_to('path-to-file)' function\n",
      "Warning: dumping a CacheRecordingExtractor. The path to the tmp binary file will be lost in further sessions. To prevent this, use the 'CacheRecordingExtractor.move_to('path-to-file)' function\n",
      "Warning: dumping a CacheRecordingExtractor. The path to the tmp binary file will be lost in further sessions. To prevent this, use the 'CacheRecordingExtractor.move_to('path-to-file)' function\n",
      "Warning: dumping a CacheRecordingExtractor. The path to the tmp binary file will be lost in further sessions. To prevent this, use the 'CacheRecordingExtractor.move_to('path-to-file)' function\n",
      "Warning: dumping a CacheRecordingExtractor. The path to the tmp binary file will be lost in further sessions. To prevent this, use the 'CacheRecordingExtractor.move_to('path-to-file)' function\n",
      "Warning: dumping a CacheRecordingExtractor. The path to the tmp binary file will be lost in further sessions. To prevent this, use the 'CacheRecordingExtractor.move_to('path-to-file)' function\n",
      "Warning: dumping a CacheRecordingExtractor. The path to the tmp binary file will be lost in further sessions. To prevent this, use the 'CacheRecordingExtractor.move_to('path-to-file)' function\n",
      "Warning: dumping a CacheRecordingExtractor. The path to the tmp binary file will be lost in further sessions. To prevent this, use the 'CacheRecordingExtractor.move_to('path-to-file)' function\n",
      "Warning: dumping a CacheRecordingExtractor. The path to the tmp binary file will be lost in further sessions. To prevent this, use the 'CacheRecordingExtractor.move_to('path-to-file)' function\n",
      "Warning: dumping a CacheRecordingExtractor. The path to the tmp binary file will be lost in further sessions. To prevent this, use the 'CacheRecordingExtractor.move_to('path-to-file)' function\n",
      "Warning: dumping a CacheRecordingExtractor. The path to the tmp binary file will be lost in further sessions. To prevent this, use the 'CacheRecordingExtractor.move_to('path-to-file)' function\n",
      "Warning: dumping a CacheRecordingExtractor. The path to the tmp binary file will be lost in further sessions. To prevent this, use the 'CacheRecordingExtractor.move_to('path-to-file)' function\n"
     ]
    },
    {
     "ename": "ValueError",
     "evalue": "n_components cannot be larger than min(n_features, n_classes - 1).",
     "output_type": "error",
     "traceback": [
      "\u001B[0;31m---------------------------------------------------------------------------\u001B[0m",
      "\u001B[0;31mValueError\u001B[0m                                Traceback (most recent call last)",
      "\u001B[0;32m<ipython-input-46-21874374c239>\u001B[0m in \u001B[0;36m<module>\u001B[0;34m\u001B[0m\n\u001B[1;32m      1\u001B[0m \u001B[0;31m# False positive classification\u001B[0m\u001B[0;34m\u001B[0m\u001B[0;34m\u001B[0m\u001B[0;34m\u001B[0m\u001B[0m\n\u001B[1;32m      2\u001B[0m \u001B[0;34m\u001B[0m\u001B[0m\n\u001B[0;32m----> 3\u001B[0;31m X, y = prepare_false_positive_dataset(\n\u001B[0m\u001B[1;32m      4\u001B[0m     \u001B[0mdataset_path\u001B[0m\u001B[0;34m=\u001B[0m\u001B[0mdataset_path\u001B[0m\u001B[0;34m,\u001B[0m\u001B[0;34m\u001B[0m\u001B[0;34m\u001B[0m\u001B[0m\n\u001B[1;32m      5\u001B[0m     \u001B[0msorter_names\u001B[0m\u001B[0;34m=\u001B[0m\u001B[0msorter_names\u001B[0m\u001B[0;34m,\u001B[0m\u001B[0;34m\u001B[0m\u001B[0;34m\u001B[0m\u001B[0m\n",
      "\u001B[0;32m~/SpikeConfidence/utils.py\u001B[0m in \u001B[0;36mprepare_false_positive_dataset\u001B[0;34m(dataset_path, sorter_names, metric_names, hungarian, drop_nans)\u001B[0m\n\u001B[1;32m     51\u001B[0m     \u001B[0my\u001B[0m \u001B[0;34m=\u001B[0m \u001B[0mnp\u001B[0m\u001B[0;34m.\u001B[0m\u001B[0marray\u001B[0m\u001B[0;34m(\u001B[0m\u001B[0;34m[\u001B[0m\u001B[0;34m]\u001B[0m\u001B[0;34m)\u001B[0m\u001B[0;34m\u001B[0m\u001B[0;34m\u001B[0m\u001B[0m\n\u001B[1;32m     52\u001B[0m     \u001B[0;32mfor\u001B[0m \u001B[0msorter_name\u001B[0m \u001B[0;32min\u001B[0m \u001B[0msorter_names\u001B[0m\u001B[0;34m:\u001B[0m\u001B[0;34m\u001B[0m\u001B[0;34m\u001B[0m\u001B[0m\n\u001B[0;32m---> 53\u001B[0;31m         \u001B[0mmetrics\u001B[0m \u001B[0;34m=\u001B[0m \u001B[0msession\u001B[0m\u001B[0;34m.\u001B[0m\u001B[0mget_sorter_metrics\u001B[0m\u001B[0;34m(\u001B[0m\u001B[0msorter_name\u001B[0m\u001B[0;34m=\u001B[0m\u001B[0msorter_name\u001B[0m\u001B[0;34m,\u001B[0m \u001B[0mmetric_names\u001B[0m\u001B[0;34m=\u001B[0m\u001B[0mmetric_names\u001B[0m\u001B[0;34m)\u001B[0m\u001B[0;34m\u001B[0m\u001B[0;34m\u001B[0m\u001B[0m\n\u001B[0m\u001B[1;32m     54\u001B[0m         \u001B[0mground_truth_comparison\u001B[0m \u001B[0;34m=\u001B[0m \u001B[0msession\u001B[0m\u001B[0;34m.\u001B[0m\u001B[0mget_ground_truth_comparison\u001B[0m\u001B[0;34m(\u001B[0m\u001B[0msorter_name\u001B[0m\u001B[0;34m=\u001B[0m\u001B[0msorter_name\u001B[0m\u001B[0;34m)\u001B[0m\u001B[0;34m\u001B[0m\u001B[0;34m\u001B[0m\u001B[0m\n\u001B[1;32m     55\u001B[0m \u001B[0;34m\u001B[0m\u001B[0m\n",
      "\u001B[0;32m~/SpikeConfidence/sorter.py\u001B[0m in \u001B[0;36mget_sorter_metrics\u001B[0;34m(self, sorter_name, metric_names)\u001B[0m\n\u001B[1;32m    101\u001B[0m \u001B[0;34m\u001B[0m\u001B[0m\n\u001B[1;32m    102\u001B[0m             \u001B[0;32mif\u001B[0m \u001B[0mmetrics_to_calc\u001B[0m\u001B[0;34m:\u001B[0m\u001B[0;34m\u001B[0m\u001B[0;34m\u001B[0m\u001B[0m\n\u001B[0;32m--> 103\u001B[0;31m                 new_metrics = st.validation.compute_quality_metrics(\n\u001B[0m\u001B[1;32m    104\u001B[0m                     \u001B[0msorting\u001B[0m\u001B[0;34m,\u001B[0m \u001B[0mself\u001B[0m\u001B[0;34m.\u001B[0m\u001B[0mrecording\u001B[0m\u001B[0;34m,\u001B[0m\u001B[0;34m\u001B[0m\u001B[0;34m\u001B[0m\u001B[0m\n\u001B[1;32m    105\u001B[0m                     \u001B[0mmetric_names\u001B[0m\u001B[0;34m=\u001B[0m\u001B[0mmetrics_to_calc\u001B[0m\u001B[0;34m,\u001B[0m\u001B[0;34m\u001B[0m\u001B[0;34m\u001B[0m\u001B[0m\n",
      "\u001B[0;32m~/.local/share/pyenv/versions/SpikeConfidence/lib/python3.8/site-packages/spiketoolkit-0.7.1-py3.8.egg/spiketoolkit/validation/quality_metrics.py\u001B[0m in \u001B[0;36mcompute_quality_metrics\u001B[0;34m(sorting, recording, duration_in_frames, sampling_frequency, metric_names, unit_ids, as_dataframe, isi_threshold, min_isi, snr_mode, snr_noise_duration, max_spikes_per_unit_for_snr, template_mode, max_channel_peak, drift_metrics_interval_s, drift_metrics_min_spikes_per_interval, max_spikes_for_silhouette, num_channels_to_compare, max_spikes_per_cluster, max_spikes_for_nn, n_neighbors, **kwargs)\u001B[0m\n\u001B[1;32m   1167\u001B[0m     \u001B[0;32mif\u001B[0m \u001B[0;34m\"d_prime\"\u001B[0m \u001B[0;32min\u001B[0m \u001B[0mmetric_names\u001B[0m\u001B[0;34m:\u001B[0m\u001B[0;34m\u001B[0m\u001B[0;34m\u001B[0m\u001B[0m\n\u001B[1;32m   1168\u001B[0m         \u001B[0md_prime\u001B[0m \u001B[0;34m=\u001B[0m \u001B[0mDPrime\u001B[0m\u001B[0;34m(\u001B[0m\u001B[0mmetric_data\u001B[0m\u001B[0;34m=\u001B[0m\u001B[0mmd\u001B[0m\u001B[0;34m)\u001B[0m\u001B[0;34m\u001B[0m\u001B[0;34m\u001B[0m\u001B[0m\n\u001B[0;32m-> 1169\u001B[0;31m         \u001B[0md_primes\u001B[0m \u001B[0;34m=\u001B[0m \u001B[0md_prime\u001B[0m\u001B[0;34m.\u001B[0m\u001B[0mcompute_metric\u001B[0m\u001B[0;34m(\u001B[0m\u001B[0mnum_channels_to_compare\u001B[0m\u001B[0;34m,\u001B[0m \u001B[0mmax_spikes_per_cluster\u001B[0m\u001B[0;34m,\u001B[0m \u001B[0;34m**\u001B[0m\u001B[0mkwargs\u001B[0m\u001B[0;34m)\u001B[0m\u001B[0;34m\u001B[0m\u001B[0;34m\u001B[0m\u001B[0m\n\u001B[0m\u001B[1;32m   1170\u001B[0m         \u001B[0mmetrics_dict\u001B[0m\u001B[0;34m[\u001B[0m\u001B[0;34m'd_prime'\u001B[0m\u001B[0;34m]\u001B[0m \u001B[0;34m=\u001B[0m \u001B[0md_primes\u001B[0m\u001B[0;34m\u001B[0m\u001B[0;34m\u001B[0m\u001B[0m\n\u001B[1;32m   1171\u001B[0m \u001B[0;34m\u001B[0m\u001B[0m\n",
      "\u001B[0;32m~/.local/share/pyenv/versions/SpikeConfidence/lib/python3.8/site-packages/spiketoolkit-0.7.1-py3.8.egg/spiketoolkit/validation/quality_metric_classes/d_prime.py\u001B[0m in \u001B[0;36mcompute_metric\u001B[0;34m(self, num_channels_to_compare, max_spikes_per_cluster, **kwargs)\u001B[0m\n\u001B[1;32m     23\u001B[0m         \u001B[0mseed\u001B[0m \u001B[0;34m=\u001B[0m \u001B[0mparams_dict\u001B[0m\u001B[0;34m[\u001B[0m\u001B[0;34m'seed'\u001B[0m\u001B[0;34m]\u001B[0m\u001B[0;34m\u001B[0m\u001B[0;34m\u001B[0m\u001B[0m\n\u001B[1;32m     24\u001B[0m         \u001B[0msave_property_or_features\u001B[0m \u001B[0;34m=\u001B[0m \u001B[0mparams_dict\u001B[0m\u001B[0;34m[\u001B[0m\u001B[0;34m'save_property_or_features'\u001B[0m\u001B[0;34m]\u001B[0m\u001B[0;34m\u001B[0m\u001B[0;34m\u001B[0m\u001B[0m\n\u001B[0;32m---> 25\u001B[0;31m         d_primes_all = metrics.calculate_pc_metrics(\n\u001B[0m\u001B[1;32m     26\u001B[0m             \u001B[0mspike_clusters\u001B[0m\u001B[0;34m=\u001B[0m\u001B[0mself\u001B[0m\u001B[0;34m.\u001B[0m\u001B[0m_metric_data\u001B[0m\u001B[0;34m.\u001B[0m\u001B[0m_spike_clusters_pca\u001B[0m\u001B[0;34m,\u001B[0m\u001B[0;34m\u001B[0m\u001B[0;34m\u001B[0m\u001B[0m\n\u001B[1;32m     27\u001B[0m             \u001B[0mtotal_units\u001B[0m\u001B[0;34m=\u001B[0m\u001B[0mself\u001B[0m\u001B[0;34m.\u001B[0m\u001B[0m_metric_data\u001B[0m\u001B[0;34m.\u001B[0m\u001B[0m_total_units\u001B[0m\u001B[0;34m,\u001B[0m\u001B[0;34m\u001B[0m\u001B[0;34m\u001B[0m\u001B[0m\n",
      "\u001B[0;32m~/.local/share/pyenv/versions/SpikeConfidence/lib/python3.8/site-packages/spikemetrics-0.2.2-py3.8.egg/spikemetrics/metrics.py\u001B[0m in \u001B[0;36mcalculate_pc_metrics\u001B[0;34m(spike_clusters, total_units, pc_features, pc_feature_ind, num_channels_to_compare, max_spikes_for_cluster, spikes_for_nn, n_neighbors, min_num_pcs, metric_names, seed, spike_cluster_subset, verbose)\u001B[0m\n\u001B[1;32m    355\u001B[0m \u001B[0;34m\u001B[0m\u001B[0m\n\u001B[1;32m    356\u001B[0m             \u001B[0;32mif\u001B[0m \u001B[0;34m'd_prime'\u001B[0m \u001B[0;32min\u001B[0m \u001B[0mmetric_names\u001B[0m\u001B[0;34m:\u001B[0m\u001B[0;34m\u001B[0m\u001B[0;34m\u001B[0m\u001B[0m\n\u001B[0;32m--> 357\u001B[0;31m                 \u001B[0md_primes\u001B[0m\u001B[0;34m[\u001B[0m\u001B[0mcluster_id\u001B[0m\u001B[0;34m]\u001B[0m \u001B[0;34m=\u001B[0m \u001B[0mlda_metrics\u001B[0m\u001B[0;34m(\u001B[0m\u001B[0mall_pcs\u001B[0m\u001B[0;34m,\u001B[0m \u001B[0mall_labels\u001B[0m\u001B[0;34m,\u001B[0m \u001B[0mcluster_id\u001B[0m\u001B[0;34m)\u001B[0m\u001B[0;34m\u001B[0m\u001B[0;34m\u001B[0m\u001B[0m\n\u001B[0m\u001B[1;32m    358\u001B[0m             \u001B[0;32melse\u001B[0m\u001B[0;34m:\u001B[0m\u001B[0;34m\u001B[0m\u001B[0;34m\u001B[0m\u001B[0m\n\u001B[1;32m    359\u001B[0m                 \u001B[0md_primes\u001B[0m\u001B[0;34m[\u001B[0m\u001B[0mcluster_id\u001B[0m\u001B[0;34m]\u001B[0m \u001B[0;34m=\u001B[0m \u001B[0mnp\u001B[0m\u001B[0;34m.\u001B[0m\u001B[0mnan\u001B[0m\u001B[0;34m\u001B[0m\u001B[0;34m\u001B[0m\u001B[0m\n",
      "\u001B[0;32m~/.local/share/pyenv/versions/SpikeConfidence/lib/python3.8/site-packages/spikemetrics-0.2.2-py3.8.egg/spikemetrics/metrics.py\u001B[0m in \u001B[0;36mlda_metrics\u001B[0;34m(all_pcs, all_labels, this_unit_id)\u001B[0m\n\u001B[1;32m    722\u001B[0m     \u001B[0mlda\u001B[0m \u001B[0;34m=\u001B[0m \u001B[0mLDA\u001B[0m\u001B[0;34m(\u001B[0m\u001B[0mn_components\u001B[0m\u001B[0;34m=\u001B[0m\u001B[0;36m1\u001B[0m\u001B[0;34m)\u001B[0m\u001B[0;34m\u001B[0m\u001B[0;34m\u001B[0m\u001B[0m\n\u001B[1;32m    723\u001B[0m \u001B[0;34m\u001B[0m\u001B[0m\n\u001B[0;32m--> 724\u001B[0;31m     \u001B[0mX_flda\u001B[0m \u001B[0;34m=\u001B[0m \u001B[0mlda\u001B[0m\u001B[0;34m.\u001B[0m\u001B[0mfit_transform\u001B[0m\u001B[0;34m(\u001B[0m\u001B[0mX\u001B[0m\u001B[0;34m,\u001B[0m \u001B[0my\u001B[0m\u001B[0;34m)\u001B[0m\u001B[0;34m\u001B[0m\u001B[0;34m\u001B[0m\u001B[0m\n\u001B[0m\u001B[1;32m    725\u001B[0m \u001B[0;34m\u001B[0m\u001B[0m\n\u001B[1;32m    726\u001B[0m     \u001B[0mflda_this_cluster\u001B[0m \u001B[0;34m=\u001B[0m \u001B[0mX_flda\u001B[0m\u001B[0;34m[\u001B[0m\u001B[0mnp\u001B[0m\u001B[0;34m.\u001B[0m\u001B[0mwhere\u001B[0m\u001B[0;34m(\u001B[0m\u001B[0my\u001B[0m\u001B[0;34m)\u001B[0m\u001B[0;34m[\u001B[0m\u001B[0;36m0\u001B[0m\u001B[0;34m]\u001B[0m\u001B[0;34m]\u001B[0m\u001B[0;34m\u001B[0m\u001B[0;34m\u001B[0m\u001B[0m\n",
      "\u001B[0;32m~/.local/share/pyenv/versions/SpikeConfidence/lib/python3.8/site-packages/sklearn/base.py\u001B[0m in \u001B[0;36mfit_transform\u001B[0;34m(self, X, y, **fit_params)\u001B[0m\n\u001B[1;32m    691\u001B[0m         \u001B[0;32melse\u001B[0m\u001B[0;34m:\u001B[0m\u001B[0;34m\u001B[0m\u001B[0;34m\u001B[0m\u001B[0m\n\u001B[1;32m    692\u001B[0m             \u001B[0;31m# fit method of arity 2 (supervised transformation)\u001B[0m\u001B[0;34m\u001B[0m\u001B[0;34m\u001B[0m\u001B[0;34m\u001B[0m\u001B[0m\n\u001B[0;32m--> 693\u001B[0;31m             \u001B[0;32mreturn\u001B[0m \u001B[0mself\u001B[0m\u001B[0;34m.\u001B[0m\u001B[0mfit\u001B[0m\u001B[0;34m(\u001B[0m\u001B[0mX\u001B[0m\u001B[0;34m,\u001B[0m \u001B[0my\u001B[0m\u001B[0;34m,\u001B[0m \u001B[0;34m**\u001B[0m\u001B[0mfit_params\u001B[0m\u001B[0;34m)\u001B[0m\u001B[0;34m.\u001B[0m\u001B[0mtransform\u001B[0m\u001B[0;34m(\u001B[0m\u001B[0mX\u001B[0m\u001B[0;34m)\u001B[0m\u001B[0;34m\u001B[0m\u001B[0;34m\u001B[0m\u001B[0m\n\u001B[0m\u001B[1;32m    694\u001B[0m \u001B[0;34m\u001B[0m\u001B[0m\n\u001B[1;32m    695\u001B[0m \u001B[0;34m\u001B[0m\u001B[0m\n",
      "\u001B[0;32m~/.local/share/pyenv/versions/SpikeConfidence/lib/python3.8/site-packages/sklearn/discriminant_analysis.py\u001B[0m in \u001B[0;36mfit\u001B[0;34m(self, X, y)\u001B[0m\n\u001B[1;32m    453\u001B[0m         \u001B[0;32melse\u001B[0m\u001B[0;34m:\u001B[0m\u001B[0;34m\u001B[0m\u001B[0;34m\u001B[0m\u001B[0m\n\u001B[1;32m    454\u001B[0m             \u001B[0;32mif\u001B[0m \u001B[0mself\u001B[0m\u001B[0;34m.\u001B[0m\u001B[0mn_components\u001B[0m \u001B[0;34m>\u001B[0m \u001B[0mmax_components\u001B[0m\u001B[0;34m:\u001B[0m\u001B[0;34m\u001B[0m\u001B[0;34m\u001B[0m\u001B[0m\n\u001B[0;32m--> 455\u001B[0;31m                 raise ValueError(\n\u001B[0m\u001B[1;32m    456\u001B[0m                     \u001B[0;34m\"n_components cannot be larger than min(n_features, \"\u001B[0m\u001B[0;34m\u001B[0m\u001B[0;34m\u001B[0m\u001B[0m\n\u001B[1;32m    457\u001B[0m                     \u001B[0;34m\"n_classes - 1).\"\u001B[0m\u001B[0;34m\u001B[0m\u001B[0;34m\u001B[0m\u001B[0m\n",
      "\u001B[0;31mValueError\u001B[0m: n_components cannot be larger than min(n_features, n_classes - 1)."
     ]
    }
   ],
   "source": [
    "# False positive classification\n",
    "\n",
    "X, y = prepare_false_positive_dataset(\n",
    "    dataset_path=dataset_path,\n",
    "    sorter_names=sorter_names,\n",
    "    metric_names=metric_names,\n",
    ")\n",
    "\n",
    "X_train, X_test, y_train, y_test = train_test_split(X, y, test_size=0.33, random_state=0)\n",
    "\n",
    "scaler = StandardScaler().fit(X_train)\n",
    "X_train_transformed = scaler.transform(X_train)\n",
    "\n",
    "model = LogisticRegression()\n",
    "model.fit(X_train_transformed, y_train)\n",
    "\n",
    "X_test_transformed = scaler.transform(X_test)\n",
    "model.score(X_test_transformed, y_test)"
   ],
   "metadata": {
    "collapsed": false,
    "pycharm": {
     "name": "#%%\n"
    }
   }
  },
  {
   "cell_type": "code",
   "execution_count": 30,
   "outputs": [],
   "source": [
    "y_test_preds = model.predict(X_test)"
   ],
   "metadata": {
    "collapsed": false,
    "pycharm": {
     "name": "#%%\n"
    }
   }
  }
 ],
 "metadata": {
  "kernelspec": {
   "display_name": "Python 3",
   "language": "python",
   "name": "python3"
  },
  "language_info": {
   "codemirror_mode": {
    "name": "ipython",
    "version": 2
   },
   "file_extension": ".py",
   "mimetype": "text/x-python",
   "name": "python",
   "nbconvert_exporter": "python",
   "pygments_lexer": "ipython2",
   "version": "2.7.6"
  }
 },
 "nbformat": 4,
 "nbformat_minor": 0
}
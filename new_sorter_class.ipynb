{
 "cells": [
  {
   "cell_type": "code",
   "execution_count": 1,
   "outputs": [
    {
     "name": "stderr",
     "output_type": "stream",
     "text": [
      "/home/mclancy/.local/share/pyenv/versions/3.8.3/lib/python3.8/importlib/__init__.py:127: MatplotlibDeprecationWarning: \n",
      "The matplotlib.backends.backend_qt4agg backend was deprecated in Matplotlib 3.3 and will be removed two minor releases later.\n",
      "  return _bootstrap._gcd_import(name[level:], package, level)\n"
     ]
    }
   ],
   "source": [
    "import os\n",
    "import matplotlib.pyplot as plt\n",
    "import numpy as np\n",
    "import matplotlib\n",
    "\n",
    "from pathlib import Path\n",
    "from sklearn.metrics import f1_score\n",
    "from sklearn.model_selection import train_test_split, ShuffleSplit, cross_val_score\n",
    "from sklearn.preprocessing import StandardScaler\n",
    "from sklearn.linear_model import LogisticRegression\n",
    "from sklearn.pipeline import make_pipeline\n",
    "from sklearn.feature_selection import RFE\n",
    "from spikeextractors import MEArecRecordingExtractor, MEArecSortingExtractor\n",
    "\n",
    "from utils import prepare_dataset\n",
    "import spikesorters as ss\n",
    "from sorter import SpikeSession\n",
    "\n",
    "matplotlib.use('qt4Agg')"
   ],
   "metadata": {
    "collapsed": false,
    "pycharm": {
     "name": "#%%\n"
    }
   }
  },
  {
   "cell_type": "code",
   "execution_count": 2,
   "outputs": [
    {
     "name": "stdout",
     "output_type": "stream",
     "text": [
      "Setting KILOSORT2_5_PATH environment variable for subprocess calls to: /home/mclancy/SpikeConfidence/spikesorters/Kilosort\n",
      "Setting IRONCLUST_PATH environment variable for subprocess calls to: /home/mclancy/SpikeConfidence/spikesorters/ironclust\n"
     ]
    }
   ],
   "source": [
    "os.environ[\"TMP\"] = \"/home/mclancy/SpikeConfidence/.tmp/\"\n",
    "os.environ[\"TMPDIR\"] = \"/home/mclancy/SpikeConfidence/.tmp/\"\n",
    "os.environ[\"TEMPDIR\"] = \"/home/mclancy/SpikeConfidence/.tmp/\"\n",
    "os.environ[\"ML_TEMPORARY_DIRECTORY\"] = \"/home/mclancy/SpikeConfidence/.tmp\"\n",
    "\n",
    "base_dir = Path('/home/mclancy/SpikeConfidence/')\n",
    "analyses_dir = base_dir / 'analyses'\n",
    "spike_sorter_dir = base_dir / 'spikesorters'\n",
    "\n",
    "# kilosort2_5\n",
    "kilosort2_5_path = base_dir / 'spikesorters/Kilosort'\n",
    "ss.Kilosort2_5Sorter.set_kilosort2_5_path(kilosort2_5_path)\n",
    "\n",
    "ss.IronClustSorter.set_ironclust_path(spike_sorter_dir / 'ironclust')\n",
    "\n",
    "dataset_path = Path(\"/home/mclancy/SpikeConfidence/analyses/recordings_50cells_SqMEA_2020/recordings_50cells_SqMEA-10-15_600.0_10.0uV_21-01-2020_18-12.h5\")\n",
    "dataset_path_2 = Path(\"/home/mclancy/SpikeConfidence/analyses/recordings_50cells_SqMEA/recordings_50cells_SqMEA-10-15um_60.0_10.0uV_27-03-2019_13-31-005.h5\")\n",
    "# session = SpikeSorter(dataset_path)"
   ],
   "metadata": {
    "collapsed": false,
    "pycharm": {
     "name": "#%%\n"
    }
   }
  },
  {
   "cell_type": "code",
   "execution_count": 3,
   "outputs": [
    {
     "data": {
      "text/plain": "<spikeextractors.extractors.npzsortingextractor.npzsortingextractor.NpzSortingExtractor at 0x7fb5ace10cd0>"
     },
     "execution_count": 3,
     "metadata": {},
     "output_type": "execute_result"
    }
   ],
   "source": [
    "a = SpikeSession(session_name='testing', recording_extractor=MEArecRecordingExtractor(dataset_path), gt_sorting_extractor=MEArecSortingExtractor(dataset_path))\n",
    "\n",
    "a.get_sorting(\"herdingspikes\")"
   ],
   "metadata": {
    "collapsed": false,
    "pycharm": {
     "name": "#%%\n"
    }
   }
  },
  {
   "cell_type": "code",
   "execution_count": 4,
   "outputs": [
    {
     "name": "stderr",
     "output_type": "stream",
     "text": [
      "/home/mclancy/.local/share/pyenv/versions/SpikeConfidence/lib/python3.8/site-packages/ipykernel/ipkernel.py:283: DeprecationWarning: `should_run_async` will not call `transform_cell` automatically in the future. Please pass the result to `transformed_cell` argument and any exception that happen during thetransform in `preprocessing_exc_tuple` in IPython 7.17 and above.\n",
      "  and should_run_async(code)\n"
     ]
    },
    {
     "data": {
      "text/plain": "<sorter.SpikeSession at 0x7fb6a4273e50>"
     },
     "execution_count": 4,
     "metadata": {},
     "output_type": "execute_result"
    }
   ],
   "source": [
    "\n"
   ],
   "metadata": {
    "collapsed": false,
    "pycharm": {
     "name": "#%%\n"
    }
   }
  }
 ],
 "metadata": {
  "kernelspec": {
   "display_name": "Python 3",
   "language": "python",
   "name": "python3"
  },
  "language_info": {
   "codemirror_mode": {
    "name": "ipython",
    "version": 2
   },
   "file_extension": ".py",
   "mimetype": "text/x-python",
   "name": "python",
   "nbconvert_exporter": "python",
   "pygments_lexer": "ipython2",
   "version": "2.7.6"
  }
 },
 "nbformat": 4,
 "nbformat_minor": 0
}
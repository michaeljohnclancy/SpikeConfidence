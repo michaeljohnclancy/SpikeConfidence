{
 "cells": [
  {
   "cell_type": "code",
   "execution_count": 1,
   "outputs": [
    {
     "name": "stderr",
     "output_type": "stream",
     "text": [
      "/home/mclancy/.local/share/pyenv/versions/SpikeConfidence/lib/python3.8/site-packages/kachery/_update_config_repos.py:39: ResourceWarning: unclosed file <_io.BufferedReader name=61>\n",
      "  _pull_git_repo(path=config_repo_path + '/repo')\n",
      "ResourceWarning: Enable tracemalloc to get the object allocation traceback\n",
      "/home/mclancy/.local/share/pyenv/versions/SpikeConfidence/lib/python3.8/site-packages/kachery/_update_config_repos.py:39: ResourceWarning: unclosed file <_io.BufferedReader name=63>\n",
      "  _pull_git_repo(path=config_repo_path + '/repo')\n",
      "ResourceWarning: Enable tracemalloc to get the object allocation traceback\n"
     ]
    },
    {
     "name": "stdout",
     "output_type": "stream",
     "text": [
      "Setting KILOSORT2_5_PATH environment variable for subprocess calls to: /home/mclancy/SpikeConfidence/spikesorters/Kilosort\n",
      "Setting IRONCLUST_PATH environment variable for subprocess calls to: /home/mclancy/SpikeConfidence/spikesorters/ironclust\n"
     ]
    }
   ],
   "source": [
    "from pathlib import Path\n",
    "from sklearn.linear_model import LogisticRegression\n",
    "from sklearn.model_selection import train_test_split\n",
    "from sklearn.pipeline import make_pipeline\n",
    "from sklearn.preprocessing import StandardScaler\n",
    "import kachery as ka\n",
    "import os\n",
    "from utils import prepare_dataset_from_hash\n",
    "import numpy as np\n",
    "import spikesorters as ss\n",
    "\n",
    "# Default TMP directory may have reach storage capacity whilst running spike sorters. Specify your own tmp dir here.\n",
    "tmp_path = Path('/home/mclancy/SpikeConfidence/.tmp/')\n",
    "os.environ[\"TMP\"] = str(tmp_path)\n",
    "os.environ[\"TMPDIR\"] = str(tmp_path)\n",
    "os.environ[\"TEMPDIR\"] = str(tmp_path)\n",
    "os.environ[\"ML_TEMPORARY_DIRECTORY\"] = str(tmp_path)\n",
    "tmp_path.mkdir(exist_ok=True, parents=True)\n",
    "\n",
    "\n",
    "# Need to create this folder before use.\n",
    "kache_path = Path(\"/data/.kache\")\n",
    "os.environ[\"KACHERY_STORAGE_DIR\"] = str(kache_path)\n",
    "kache_path.mkdir(exist_ok=True, parents=True)\n",
    "\n",
    "# Configure kachery to download data from the public database\n",
    "ka.set_config(fr='default_readonly')\n",
    "\n",
    "base_dir = Path('/home/mclancy/SpikeConfidence/')\n",
    "spike_sorter_dir = base_dir / 'spikesorters'\n",
    "\n",
    "# Specify the path to the non python sorters.\n",
    "ss.Kilosort2_5Sorter.set_kilosort2_5_path(spike_sorter_dir / 'Kilosort')\n",
    "ss.IronClustSorter.set_ironclust_path(spike_sorter_dir / 'ironclust')\n",
    "\n",
    "# This is the cache currently holding the sortings and metrics for recordings.\n",
    "cache_path = Path('/data/.cache')"
   ],
   "metadata": {
    "collapsed": false,
    "pycharm": {
     "name": "#%%\n"
    }
   }
  },
  {
   "cell_type": "code",
   "execution_count": 7,
   "outputs": [],
   "source": [
    "# All information required for performing a regression held here:\n",
    "#   Recording path, ground truth path, sorters to run, and metrics to calculate.\n",
    "\n",
    "sorter_names = ['mountainsort4', 'herdingspikes', 'spykingcircus', 'ironclust','tridesclous']\n",
    "\n",
    "metric_names = np.array([\"num_spikes\", \"firing_rate\", \"presence_ratio\",\n",
    "                \"isi_violation\", \"amplitude_cutoff\", \"snr\",\n",
    "                \"max_drift\", \"cumulative_drift\", \"silhouette_score\",\n",
    "                \"isolation_distance\", \"l_ratio\",\n",
    "                \"nn_hit_rate\", \"nn_miss_rate\",\"d_prime\"])"
   ],
   "metadata": {
    "collapsed": false,
    "pycharm": {
     "name": "#%%\n"
    }
   }
  },
  {
   "cell_type": "code",
   "execution_count": 3,
   "outputs": [
    {
     "name": "stdout",
     "output_type": "stream",
     "text": [
      "Could not build regressor for tridesclous with data provided; Likely that there are no instances of false positives from this sorter for these data This solver needs samples of at least 2 classes in the data, but the data contains only one class: 0.0\n",
      "{'mountainsort4': 0.8823529411764706, 'herdingspikes': 0.9230769230769231, 'spykingcircus': 1.0, 'ironclust': 1.0, 'tridesclous': None}\n"
     ]
    }
   ],
   "source": [
    "static_siprobe1_recording_path = 'sha1dir://615aa23efde8898aa89002613e20ad59dcde42f9.hybrid_janelia/static_siprobe/rec_16c_1200s_11'\n",
    "static_siprobe1_gt_path = 'sha1dir://615aa23efde8898aa89002613e20ad59dcde42f9.hybrid_janelia/static_siprobe/rec_16c_1200s_11/firings_true.mda'\n",
    "\n",
    "static_siprobe2_recording_path = 'sha1dir://615aa23efde8898aa89002613e20ad59dcde42f9.hybrid_janelia/static_siprobe/rec_16c_1200s_21'\n",
    "static_siprobe2_gt_path = 'sha1dir://615aa23efde8898aa89002613e20ad59dcde42f9.hybrid_janelia/static_siprobe/rec_16c_1200s_21/firings_true.mda'\n",
    "\n",
    "static_siprobe3_recording_path = 'sha1dir://615aa23efde8898aa89002613e20ad59dcde42f9.hybrid_janelia/static_siprobe/rec_16c_1200s_31'\n",
    "static_siprobe3_gt_path = 'sha1dir://615aa23efde8898aa89002613e20ad59dcde42f9.hybrid_janelia/static_siprobe/rec_16c_1200s_31/firings_true.mda'\n",
    "\n",
    "recording_paths = [static_siprobe1_recording_path, static_siprobe2_recording_path, static_siprobe3_recording_path]\n",
    "gt_paths = [static_siprobe1_gt_path, static_siprobe2_gt_path, static_siprobe3_gt_path]"
   ],
   "metadata": {
    "collapsed": false,
    "pycharm": {
     "name": "#%%\n"
    }
   }
  },
  {
   "cell_type": "code",
   "execution_count": 11,
   "outputs": [
    {
     "name": "stderr",
     "output_type": "stream",
     "text": [
      "warning: PYDEVD_USE_CYTHON environment variable is set to 'NO'. Frame evaluator will be also disabled because it requires Cython extensions to be enabled in order to operate correctly.\n"
     ]
    },
    {
     "name": "stdout",
     "output_type": "stream",
     "text": [
      "Could not build regressor for tridesclous with data provided; Likely that there are no instances of false positives from this sorter for these data This solver needs samples of at least 2 classes in the data, but the data contains only one class: 0.0\n",
      "{'mountainsort4': 0.8823529411764706, 'herdingspikes': 0.9230769230769231, 'spykingcircus': 1.0, 'ironclust': 1.0, 'tridesclous': None}\n"
     ]
    }
   ],
   "source": [
    "# How do sorter specific regressions perform on unseen data from the same dataset they were trained on?\n",
    "\n",
    "try:\n",
    "    accuracies = np.load('results/single_sorter_accuracies.npy', allow_pickle=True).item()\n",
    "except FileNotFoundError:\n",
    "    accuracies = {}\n",
    "    for sorter_name in sorter_names:\n",
    "        X, y = prepare_dataset_from_hash(recording_paths=recording_paths, gt_paths=gt_paths, metric_names=metric_names, sorter_names=[sorter_name], cache_path=cache_path)\n",
    "\n",
    "        # Shuffled and split into train/test sets.\n",
    "        X_train, X_test, y_train, y_test = train_test_split(X, y, test_size=0.33, random_state=0)\n",
    "\n",
    "        # False positive classification via logistic regression\n",
    "        model = make_pipeline(StandardScaler(), LogisticRegression())\n",
    "\n",
    "        try:\n",
    "            model.fit(X_train, y_train)\n",
    "            model_accuracy = model.score(X_test, y_test)\n",
    "            accuracies[sorter_name] = model_accuracy\n",
    "        except ValueError as e:\n",
    "            accuracies[sorter_name] = None\n",
    "            print(f\"Could not build regressor for {sorter_name} with data provided; Likely that there are no instances of false positives from this sorter for these data\", e)\n",
    "\n",
    "    np.save('results/single_sorter_accuracies.npy', accuracies)\n",
    "\n",
    "print(accuracies)"
   ],
   "metadata": {
    "collapsed": false,
    "pycharm": {
     "name": "#%%\n"
    }
   }
  },
  {
   "cell_type": "markdown",
   "source": [
    "There are not enough false positives in a given sorter results for a classifier to be built for each sorter. Must either use more datasets, or merge the sorter classifier into one general classifier:"
   ],
   "metadata": {
    "collapsed": false,
    "pycharm": {
     "name": "#%% md\n"
    }
   }
  },
  {
   "cell_type": "code",
   "execution_count": 10,
   "outputs": [
    {
     "name": "stdout",
     "output_type": "stream",
     "text": [
      "0.88\n"
     ]
    },
    {
     "name": "stderr",
     "output_type": "stream",
     "text": [
      "/home/mclancy/.local/share/pyenv/versions/SpikeConfidence/lib/python3.8/site-packages/ipykernel/ipkernel.py:283: DeprecationWarning: `should_run_async` will not call `transform_cell` automatically in the future. Please pass the result to `transformed_cell` argument and any exception that happen during thetransform in `preprocessing_exc_tuple` in IPython 7.17 and above.\n",
      "  and should_run_async(code)\n"
     ]
    }
   ],
   "source": [
    "recording_paths = [static_siprobe1_recording_path, static_siprobe2_recording_path, static_siprobe3_recording_path]\n",
    "gt_paths = [static_siprobe1_gt_path, static_siprobe2_gt_path, static_siprobe3_gt_path]\n",
    "\n",
    "try:\n",
    "    accuracy = np.load('results/general_sorter_accuracy.npy')\n",
    "except FileNotFoundError:\n",
    "    X, y = prepare_dataset_from_hash(recording_paths=recording_paths, gt_paths=gt_paths, metric_names=metric_names, sorter_names=sorter_names, cache_path=cache_path)\n",
    "\n",
    "    # Shuffled and split into train/test sets.\n",
    "    X_train, X_test, y_train, y_test = train_test_split(X, y, test_size=0.33, random_state=0)\n",
    "\n",
    "    # False positive classification via logistic regression\n",
    "    model = make_pipeline(StandardScaler(), LogisticRegression())\n",
    "    model.fit(X_train, y_train)\n",
    "\n",
    "    accuracy = model.score(X_test, y_test)\n",
    "    np.save('results/general_sorter_accuracy.npy', accuracy)\n",
    "\n",
    "print(accuracy)"
   ],
   "metadata": {
    "collapsed": false,
    "pycharm": {
     "name": "#%%\n"
    }
   }
  }
 ],
 "metadata": {
  "kernelspec": {
   "display_name": "Python 3",
   "language": "python",
   "name": "python3"
  },
  "language_info": {
   "codemirror_mode": {
    "name": "ipython",
    "version": 2
   },
   "file_extension": ".py",
   "mimetype": "text/x-python",
   "name": "python",
   "nbconvert_exporter": "python",
   "pygments_lexer": "ipython2",
   "version": "2.7.6"
  }
 },
 "nbformat": 4,
 "nbformat_minor": 0
}
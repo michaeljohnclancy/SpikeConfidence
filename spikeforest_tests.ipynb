{
 "cells": [
  {
   "cell_type": "code",
   "execution_count": 2,
   "metadata": {
    "collapsed": true
   },
   "outputs": [
    {
     "name": "stderr",
     "output_type": "stream",
     "text": [
      "/home/mclancy/.local/share/pyenv/versions/SpikeConfidence/lib/python3.8/site-packages/kachery/_update_config_repos.py:39: ResourceWarning: unclosed file <_io.BufferedReader name=62>\n",
      "  _pull_git_repo(path=config_repo_path + '/repo')\n",
      "ResourceWarning: Enable tracemalloc to get the object allocation traceback\n",
      "/home/mclancy/.local/share/pyenv/versions/SpikeConfidence/lib/python3.8/site-packages/kachery/_update_config_repos.py:39: ResourceWarning: unclosed file <_io.BufferedReader name=64>\n",
      "  _pull_git_repo(path=config_repo_path + '/repo')\n",
      "ResourceWarning: Enable tracemalloc to get the object allocation traceback\n"
     ]
    },
    {
     "name": "stdout",
     "output_type": "stream",
     "text": [
      "Setting KILOSORT2_5_PATH environment variable for subprocess calls to: /home/mclancy/SpikeConfidence/spikesorters/Kilosort\n",
      "Setting IRONCLUST_PATH environment variable for subprocess calls to: /home/mclancy/SpikeConfidence/spikesorters/ironclust\n"
     ]
    }
   ],
   "source": [
    "from pathlib import Path\n",
    "from sklearn.linear_model import LogisticRegression\n",
    "from sklearn.model_selection import train_test_split\n",
    "from sklearn.pipeline import make_pipeline\n",
    "from sklearn.preprocessing import StandardScaler\n",
    "import kachery as ka\n",
    "import os\n",
    "from utils import prepare_dataset_from_hash\n",
    "import numpy as np\n",
    "import spikesorters as ss\n",
    "\n",
    "os.environ[\"TMP\"] = \"/home/mclancy/SpikeConfidence/.tmp/\"\n",
    "os.environ[\"TMPDIR\"] = \"/home/mclancy/SpikeConfidence/.tmp/\"\n",
    "os.environ[\"TEMPDIR\"] = \"/home/mclancy/SpikeConfidence/.tmp/\"\n",
    "os.environ[\"ML_TEMPORARY_DIRECTORY\"] = \"/home/mclancy/SpikeConfidence/.tmp\"\n",
    "\n",
    "os.environ[\"KACHERY_STORAGE_DIR\"] = \"/data/.kache\"\n",
    "\n",
    "# Configure kachery to download data from the public database\n",
    "ka.set_config(fr='default_readonly')\n",
    "\n",
    "base_dir = Path('/home/mclancy/SpikeConfidence/')\n",
    "cache_path = Path('/data/.cache')\n",
    "spike_sorter_dir = base_dir / 'spikesorters'\n",
    "\n",
    "# kilosort2_5\n",
    "ss.Kilosort2_5Sorter.set_kilosort2_5_path(spike_sorter_dir / 'Kilosort')\n",
    "\n",
    "ss.IronClustSorter.set_ironclust_path(spike_sorter_dir / 'ironclust')"
   ]
  },
  {
   "cell_type": "code",
   "execution_count": 3,
   "outputs": [
    {
     "name": "stderr",
     "output_type": "stream",
     "text": [
      "/home/mclancy/.local/share/pyenv/versions/SpikeConfidence/lib/python3.8/site-packages/ipykernel/ipkernel.py:283: DeprecationWarning: `should_run_async` will not call `transform_cell` automatically in the future. Please pass the result to `transformed_cell` argument and any exception that happen during thetransform in `preprocessing_exc_tuple` in IPython 7.17 and above.\n",
      "  and should_run_async(code)\n"
     ]
    }
   ],
   "source": [
    "static_recording_path = 'sha1dir://615aa23efde8898aa89002613e20ad59dcde42f9.hybrid_janelia/static_siprobe/rec_16c_1200s_11'\n",
    "static_gt_path = 'sha1dir://615aa23efde8898aa89002613e20ad59dcde42f9.hybrid_janelia/static_siprobe/rec_16c_1200s_11/firings_true.mda'\n",
    "\n",
    "drift_recording_path = 'sha1dir://615aa23efde8898aa89002613e20ad59dcde42f9.hybrid_janelia/drift_siprobe/rec_16c_1200s_11'\n",
    "drift_gt_path = 'sha1dir://615aa23efde8898aa89002613e20ad59dcde42f9.hybrid_janelia/drift_siprobe/rec_16c_1200s_11/firings_true.mda'\n",
    "\n",
    "sorter_names = ['mountainsort4', 'herdingspikes', 'spykingcircus', 'ironclust','tridesclous']\n",
    "\n",
    "metric_names = np.array([\"num_spikes\", \"firing_rate\", \"presence_ratio\",\n",
    "                \"isi_violation\", \"amplitude_cutoff\", \"snr\",\n",
    "                \"max_drift\", \"cumulative_drift\", \"silhouette_score\",\n",
    "                \"isolation_distance\", \"l_ratio\",\n",
    "                \"nn_hit_rate\", \"nn_miss_rate\",\"d_prime\"])"
   ],
   "metadata": {
    "collapsed": false,
    "pycharm": {
     "name": "#%%\n"
    }
   }
  },
  {
   "cell_type": "code",
   "execution_count": 4,
   "outputs": [],
   "source": [
    "X_static, y_static = prepare_dataset_from_hash(recording_path=static_recording_path, gt_path=static_gt_path, metric_names=metric_names, sorter_names=sorter_names, cache_path=cache_path)\n",
    "X_drift, y_drift = prepare_dataset_from_hash(recording_path=drift_recording_path, gt_path=drift_gt_path, metric_names=metric_names, sorter_names=sorter_names, cache_path=cache_path)"
   ],
   "metadata": {
    "collapsed": false,
    "pycharm": {
     "name": "#%%\n"
    }
   }
  },
  {
   "cell_type": "code",
   "execution_count": 5,
   "outputs": [
    {
     "name": "stdout",
     "output_type": "stream",
     "text": [
      "Full metrics model accuracy is 0.875\n"
     ]
    }
   ],
   "source": [
    "model = make_pipeline(StandardScaler(), LogisticRegression())\n",
    "\n",
    "X_train, X_test, y_train, y_test = train_test_split(X_drift, y_drift, test_size=0.33, random_state=0)\n",
    "\n",
    "scaler = StandardScaler().fit(X_train)\n",
    "X_train_transformed = scaler.transform(X_train)\n",
    "X_test_transformed = scaler.transform(X_test)\n",
    "\n",
    "# False positive classification via logistic regression\n",
    "model.fit(X_train_transformed, y_train)\n",
    "model_accuracy = model.score(X_test_transformed, y_test)\n",
    "print(f\"Full metrics model accuracy is {model_accuracy}\")"
   ],
   "metadata": {
    "collapsed": false,
    "pycharm": {
     "name": "#%%\n"
    }
   }
  }
 ],
 "metadata": {
  "kernelspec": {
   "display_name": "Python 3",
   "language": "python",
   "name": "python3"
  },
  "language_info": {
   "codemirror_mode": {
    "name": "ipython",
    "version": 2
   },
   "file_extension": ".py",
   "mimetype": "text/x-python",
   "name": "python",
   "nbconvert_exporter": "python",
   "pygments_lexer": "ipython2",
   "version": "2.7.6"
  }
 },
 "nbformat": 4,
 "nbformat_minor": 0
}